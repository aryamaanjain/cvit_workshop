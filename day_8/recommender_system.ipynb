{
  "nbformat": 4,
  "nbformat_minor": 0,
  "metadata": {
    "colab": {
      "name": "recommender_system.ipynb",
      "provenance": [],
      "toc_visible": true
    },
    "kernelspec": {
      "name": "python3",
      "display_name": "Python 3"
    }
  },
  "cells": [
    {
      "cell_type": "markdown",
      "metadata": {
        "id": "acLzFHPBHepK",
        "colab_type": "text"
      },
      "source": [
        "# Recommender system\n",
        "* Removed final_akshat.json since file much larger than others.\n",
        "* Removed final_dolton.json since not in correct format.\n",
        "* Merged other files using simple python script into file `output.json`.\n",
        "* Cannot plot clustering since high dimensional.\n",
        "* **Observation**: clusters change on each run telling us that there is probably no good pattern in data given."
      ]
    },
    {
      "cell_type": "code",
      "metadata": {
        "id": "0rzkLT3XDG1T",
        "colab_type": "code",
        "colab": {}
      },
      "source": [
        "import json\n",
        "import numpy as np\n",
        "import matplotlib.pyplot as plt"
      ],
      "execution_count": 0,
      "outputs": []
    },
    {
      "cell_type": "code",
      "metadata": {
        "id": "v2Ystn2Gk2HK",
        "colab_type": "code",
        "colab": {
          "base_uri": "https://localhost:8080/",
          "height": 54
        },
        "outputId": "8b92e7ea-e0de-47aa-f2b5-08e618f7f6af"
      },
      "source": [
        "# reading data\n",
        "f = open('output.json', 'r')\n",
        "data = list(json.load(f))\n",
        "f.close()\n",
        "print(data)"
      ],
      "execution_count": 93,
      "outputs": [
        {
          "output_type": "stream",
          "text": [
            "[{'username': 'Sai Shashank', 'movie_ids': [109414, 57120, 9728, 21413, 9280, 325789, 260346, 9550, 14113, 51995, 45881, 12117, 700, 66, 433, 468, 9562, 51995, 2309, 9833, 22897, 13187, 4515, 33155], 'genre_freq': {'Action': 8, 'Adventure': 5, 'Fantasy': 3, 'Science Fiction': 2, 'Crime': 3, 'Drama': 12, 'Thriller': 10, 'Animation': 1, 'Family': 4, 'Western': 1, 'Comedy': 9, 'Romance': 7, 'Horror': 1, 'Mystery': 1, 'History': 1, 'War': 0, 'Music': 0, 'Documentary': 0, 'Foreign': 0, 'TV Movie': 1}, 'genre_freq_divided': {'Action': 2.6666666666666665, 'Adventure': 1.4999999999999998, 'Fantasy': 1.0, 'Science Fiction': 0.8333333333333333, 'Crime': 1.0, 'Drama': 4.166666666666667, 'Thriller': 3.5000000000000004, 'Animation': 0.25, 'Family': 1.25, 'Western': 0.5, 'Comedy': 3.25, 'Romance': 2.75, 'Horror': 0.5, 'Mystery': 0.3333333333333333, 'History': 0.25, 'War': 0, 'Music': 0, 'Documentary': 0, 'Foreign': 0, 'TV Movie': 0.25}}, {'username': 'George', 'movie_ids': [64689, 297596, 39845, 10185, 10678, 13491, 18360, 171424, 21301, 1550, 1368, 38365, 46503, 20526, 79587, 146882, 376010, 1949, 18276, 14411, 1382, 11817, 64559, 377, 9903, 334074, 9922, 12783, 39269, 11546, 50647, 109414, 46252, 230266, 25212, 2841, 70006, 31246, 153158, 10117, 17708, 2454, 181533, 2122, 25209, 48572, 9096, 4836, 702, 293646, 9624, 7512, 8007, 578, 8850, 860, 184098], 'genre_freq': {'Action': 16, 'Adventure': 15, 'Fantasy': 5, 'Science Fiction': 4, 'Crime': 10, 'Drama': 26, 'Thriller': 18, 'Animation': 2, 'Family': 5, 'Western': 2, 'Comedy': 21, 'Romance': 7, 'Horror': 5, 'Mystery': 4, 'History': 2, 'War': 2, 'Music': 1, 'Documentary': 0, 'Foreign': 0, 'TV Movie': 0}, 'genre_freq_divided': {'Action': 4.883333333333334, 'Adventure': 5.1, 'Fantasy': 1.3166666666666667, 'Science Fiction': 1.3666666666666667, 'Crime': 3.1833333333333336, 'Drama': 14.266666666666667, 'Thriller': 6.516666666666666, 'Animation': 0.6666666666666666, 'Family': 1.6166666666666665, 'Western': 1.2, 'Comedy': 10.016666666666667, 'Romance': 2.3166666666666664, 'Horror': 2.1166666666666667, 'Mystery': 0.9, 'History': 0.8333333333333333, 'War': 0.5, 'Music': 0.2, 'Documentary': 0, 'Foreign': 0, 'TV Movie': 0}}, {'username': 'yoogottamk', 'movie_ids': [14337, 320435, 8643, 329, 35169, 11170, 49963, 75033, 20766, 788, 224569, 46415, 22787, 20083, 55720, 8373, 4929, 5172, 352978, 39800, 209403, 2830, 81836, 77866, 20083, 92591, 133931, 23685, 20406, 326576, 1726, 13700, 8408, 38745, 4806, 19724, 22894, 18240, 287625, 417859, 11442, 13501, 10588], 'genre_freq': {'Action': 11, 'Adventure': 10, 'Fantasy': 4, 'Science Fiction': 7, 'Crime': 7, 'Drama': 19, 'Thriller': 10, 'Animation': 4, 'Family': 5, 'Western': 1, 'Comedy': 19, 'Romance': 7, 'Horror': 4, 'Mystery': 1, 'History': 0, 'War': 0, 'Music': 1, 'Documentary': 0, 'Foreign': 0, 'TV Movie': 0}, 'genre_freq_divided': {'Action': 2.983333333333334, 'Adventure': 3.233333333333334, 'Fantasy': 0.9333333333333333, 'Science Fiction': 2.583333333333333, 'Crime': 1.8333333333333333, 'Drama': 8.783333333333331, 'Thriller': 3.0, 'Animation': 1.15, 'Family': 1.6166666666666665, 'Western': 1.0, 'Comedy': 9.316666666666666, 'Romance': 2.8666666666666667, 'Horror': 2.25, 'Mystery': 0.25, 'History': 0, 'War': 0, 'Music': 0.2, 'Documentary': 0, 'Foreign': 0, 'TV Movie': 0}}, {'username': 'Aman', 'movie_ids': [692, 1921, 14434, 21610, 80274, 12100, 4997, 10140, 43947, 16651, 16769, 10628, 10393, 65203, 36825, 13963, 21301, 84318, 7510, 11184, 304357, 302688, 1125, 319069, 206647, 8452, 22832, 5689, 48138, 34341, 9928, 563, 557, 14578, 16608, 38117, 2275, 542, 133694, 8987, 9823, 43593, 20009, 280092, 11382, 55180, 119458, 208869, 10786, 28053, 284, 22794, 676, 985, 22314, 2502, 4327, 39180, 2294, 4997, 50321, 45132, 15797, 13001, 232679, 10437, 5722, 227975, 25983, 218500, 12271, 37080], 'genre_freq': {'Action': 21, 'Adventure': 13, 'Fantasy': 6, 'Science Fiction': 7, 'Crime': 15, 'Drama': 35, 'Thriller': 17, 'Animation': 3, 'Family': 9, 'Western': 2, 'Comedy': 25, 'Romance': 13, 'Horror': 6, 'Mystery': 5, 'History': 3, 'War': 2, 'Music': 3, 'Documentary': 3, 'Foreign': 0, 'TV Movie': 0}, 'genre_freq_divided': {'Action': 6.949999999999999, 'Adventure': 3.8666666666666667, 'Fantasy': 1.9999999999999998, 'Science Fiction': 2.9166666666666665, 'Crime': 4.2, 'Drama': 16.66666666666667, 'Thriller': 5.533333333333333, 'Animation': 0.9166666666666665, 'Family': 2.75, 'Western': 1.1666666666666667, 'Comedy': 11.116666666666669, 'Romance': 5.083333333333333, 'Horror': 2.25, 'Mystery': 1.5833333333333333, 'History': 1.0833333333333333, 'War': 0.5833333333333333, 'Music': 1.3333333333333333, 'Documentary': 2.0, 'Foreign': 0, 'TV Movie': 0}}, {'username': 'Ayan', 'movie_ids': [9515, 36668, 1651, 96724, 215924, 10393, 13490, 190955, 496, 218043, 46528, 21014, 9787, 9893, 47890, 38970, 8272, 77459, 13569, 44113, 398, 1487, 11033, 27845, 12163, 3028, 24869, 13503, 100275, 13495], 'genre_freq': {'Action': 8, 'Adventure': 4, 'Fantasy': 4, 'Science Fiction': 4, 'Crime': 4, 'Drama': 14, 'Thriller': 8, 'Animation': 1, 'Family': 2, 'Western': 2, 'Comedy': 12, 'Romance': 4, 'Horror': 4, 'Mystery': 2, 'History': 0, 'War': 0, 'Music': 0, 'Documentary': 0, 'Foreign': 0, 'TV Movie': 0}, 'genre_freq_divided': {'Action': 3.3166666666666664, 'Adventure': 0.9833333333333334, 'Fantasy': 1.2333333333333334, 'Science Fiction': 1.2499999999999998, 'Crime': 1.3666666666666667, 'Drama': 7.533333333333333, 'Thriller': 2.3166666666666664, 'Animation': 0.2, 'Family': 0.7, 'Western': 0.7, 'Comedy': 6.566666666666666, 'Romance': 1.6666666666666665, 'Horror': 1.5, 'Mystery': 0.6666666666666666, 'History': 0, 'War': 0, 'Music': 0, 'Documentary': 0, 'Foreign': 0, 'TV Movie': 0}}, {'username': 'Kalyan', 'movie_ids': [13816, 12618, 49051, 10197, 588, 23398, 342521, 590, 1620, 13700, 14353, 82654, 72914, 8068, 10316, 5769, 22805, 17710, 8953, 10521, 9502, 10052, 242575, 351043, 102840, 192577, 14292, 27983, 675, 37498, 26022, 23082, 1698, 321258, 392, 91314, 251471, 72387, 386826, 22971, 82696, 5174, 5279, 4234, 242512, 10718, 86829, 36046, 127918, 140823, 2059, 6016, 12244, 208763, 16523, 131631, 54518, 38033, 41446, 9762, 98568, 16110, 19913, 634, 55123, 7485, 2976, 40505, 579, 254, 10981, 29463, 15189, 343795, 244339, 43074, 4967, 20391, 136400, 168672, 10611, 77987, 3080, 8984, 31932, 1894, 12703, 2652, 1687, 8741, 17186, 4032, 259694, 10445, 22881, 107315, 194588, 10008, 2196, 19084, 68718, 168672, 12133, 376010, 30141, 139998, 13150, 2287, 324322], 'genre_freq': {'Action': 21, 'Adventure': 13, 'Fantasy': 9, 'Science Fiction': 11, 'Crime': 15, 'Drama': 47, 'Thriller': 26, 'Animation': 8, 'Family': 13, 'Western': 3, 'Comedy': 35, 'Romance': 20, 'Horror': 14, 'Mystery': 13, 'History': 4, 'War': 2, 'Music': 13, 'Documentary': 7, 'Foreign': 0, 'TV Movie': 0}, 'genre_freq_divided': {'Action': 8.099999999999998, 'Adventure': 3.7, 'Fantasy': 2.866666666666667, 'Science Fiction': 3.7, 'Crime': 4.733333333333333, 'Drama': 22.016666666666666, 'Thriller': 9.516666666666667, 'Animation': 2.7333333333333334, 'Family': 4.7, 'Western': 1.7, 'Comedy': 14.566666666666666, 'Romance': 7.033333333333332, 'Horror': 6.5, 'Mystery': 4.15, 'History': 1.4166666666666665, 'War': 0.6666666666666666, 'Music': 4.066666666666667, 'Documentary': 5.833333333333333, 'Foreign': 0, 'TV Movie': 0}}, {'username': 'abhishek', 'movie_ids': [12113, 14012, 18869, 2062, 120, 1024, 11191, 25793, 155, 33155, 394047, 4638, 65086, 68179, 9754, 33511, 11322, 4512, 39437, 9716, 29015, 131631, 59967, 2122, 1858, 64685, 22074, 820, 58595, 210860, 691, 107846, 2295, 129, 11887, 291870, 31005, 36549, 64685, 38050, 356483, 48572, 140823, 7303, 14411, 14165, 36046, 9383, 216282, 86825, 12227, 41154, 9526, 1389, 110683, 45138, 11308, 9093, 27569, 13836, 5854, 8875, 84188, 9896, 106845, 240, 7516, 10661, 320], 'genre_freq': {'Action': 21, 'Adventure': 14, 'Fantasy': 6, 'Science Fiction': 11, 'Crime': 12, 'Drama': 33, 'Thriller': 26, 'Animation': 4, 'Family': 8, 'Western': 1, 'Comedy': 23, 'Romance': 10, 'Horror': 6, 'Mystery': 2, 'History': 3, 'War': 1, 'Music': 3, 'Documentary': 1, 'Foreign': 1, 'TV Movie': 0}, 'genre_freq_divided': {'Action': 7.033333333333333, 'Adventure': 4.616666666666667, 'Fantasy': 1.8333333333333333, 'Science Fiction': 3.6166666666666667, 'Crime': 3.7833333333333337, 'Drama': 16.15, 'Thriller': 9.366666666666667, 'Animation': 1.0333333333333332, 'Family': 1.9833333333333332, 'Western': 0.3333333333333333, 'Comedy': 9.566666666666665, 'Romance': 3.45, 'Horror': 2.333333333333333, 'Mystery': 0.5833333333333333, 'History': 1.0, 'War': 0.25, 'Music': 0.8666666666666667, 'Documentary': 1.0, 'Foreign': 0.2, 'TV Movie': 0}}, {'username': 'aryamaan', 'movie_ids': [61752, 176074, 9583, 40652, 5279, 4107, 49538, 26371, 11302, 11129, 29371, 70875, 26352, 261023, 14517, 15765, 47607, 37232, 9481, 59457, 1901, 115, 222250, 72571, 1717, 9555, 8665, 9823, 10024, 9919, 181330, 18841, 7445, 28089, 9824, 9614, 11459, 174362, 2493], 'genre_freq': {'Action': 6, 'Adventure': 7, 'Fantasy': 4, 'Science Fiction': 5, 'Crime': 4, 'Drama': 19, 'Thriller': 5, 'Animation': 0, 'Family': 2, 'Western': 0, 'Comedy': 17, 'Romance': 9, 'Horror': 2, 'Mystery': 2, 'History': 4, 'War': 1, 'Music': 1, 'Documentary': 3, 'Foreign': 1, 'TV Movie': 0}, 'genre_freq_divided': {'Action': 1.6999999999999997, 'Adventure': 1.8999999999999997, 'Fantasy': 1.7333333333333332, 'Science Fiction': 1.6999999999999997, 'Crime': 1.5833333333333333, 'Drama': 7.916666666666665, 'Thriller': 1.7499999999999998, 'Animation': 0, 'Family': 0.5333333333333333, 'Western': 0, 'Comedy': 8.733333333333333, 'Romance': 3.5333333333333337, 'Horror': 1.3333333333333333, 'Mystery': 0.5833333333333333, 'History': 1.3333333333333333, 'War': 0.3333333333333333, 'Music': 0.5, 'Documentary': 2.5, 'Foreign': 0.3333333333333333, 'TV Movie': 0}}, {'username': 'Ammar', 'movie_ids': [76489, 9923, 1777, 157849, 2698, 745, 354624, 100402, 451, 283671, 38665, 26390, 17663, 90414, 177572, 77948, 1934, 1951, 5551, 6538, 168530, 14758, 323677, 188207, 172533, 16577, 8859, 205584, 100042, 38358, 58574, 10590, 18360, 935, 36819, 2661, 415, 80274, 4248, 142061, 7737, 128, 9802, 9819, 4148, 956, 10674, 27686, 10358, 37710, 3083, 431, 594, 218, 480, 72559, 13475, 49444, 8848, 20526, 135595, 49026, 325140, 250184, 16988], 'genre_freq': {'Action': 26, 'Adventure': 18, 'Fantasy': 6, 'Science Fiction': 11, 'Crime': 7, 'Drama': 22, 'Thriller': 16, 'Animation': 7, 'Family': 10, 'Western': 1, 'Comedy': 18, 'Romance': 10, 'Horror': 3, 'Mystery': 3, 'History': 3, 'War': 2, 'Music': 1, 'Documentary': 1, 'Foreign': 0, 'TV Movie': 0}, 'genre_freq_divided': {'Action': 9.149999999999999, 'Adventure': 5.383333333333334, 'Fantasy': 2.4, 'Science Fiction': 3.2333333333333334, 'Crime': 2.1999999999999997, 'Drama': 10.750000000000002, 'Thriller': 6.166666666666666, 'Animation': 2.4499999999999997, 'Family': 3.0500000000000003, 'Western': 0.25, 'Comedy': 9.466666666666667, 'Romance': 4.25, 'Horror': 1.0, 'Mystery': 0.9166666666666665, 'History': 1.1666666666666665, 'War': 0.6666666666666666, 'Music': 0.5, 'Documentary': 1.0, 'Foreign': 0, 'TV Movie': 0}}, {'username': 'Avani', 'movie_ids': [262500, 157293, 41446, 181533, 23531, 20616, 225886, 22649, 36597, 22556, 46705, 10368, 2011, 27569, 362765, 205126, 331190, 11451, 3028, 108346, 657, 11576, 9619, 294086, 62677, 688, 10481, 1430, 22617, 239566, 62835, 13836, 98566, 329833, 65754, 398, 10537, 10550, 10029, 1544, 266856, 325133, 9303, 2135, 298312, 49017, 228161, 2486, 7341, 77016, 2395, 927, 89492, 122906, 34653, 14652, 27582, 10661, 44147, 138103, 14799, 874, 1535, 98549, 216282, 9839, 9715, 11873, 1550, 8944, 754, 8416, 12877, 8836, 24746, 205, 8055], 'genre_freq': {'Action': 21, 'Adventure': 16, 'Fantasy': 9, 'Science Fiction': 12, 'Crime': 12, 'Drama': 40, 'Thriller': 23, 'Animation': 2, 'Family': 7, 'Western': 1, 'Comedy': 25, 'Romance': 14, 'Horror': 6, 'Mystery': 4, 'History': 3, 'War': 5, 'Music': 4, 'Documentary': 1, 'Foreign': 1, 'TV Movie': 0}, 'genre_freq_divided': {'Action': 6.816666666666666, 'Adventure': 4.3999999999999995, 'Fantasy': 2.05, 'Science Fiction': 3.566666666666667, 'Crime': 3.7500000000000004, 'Drama': 19.28333333333333, 'Thriller': 7.583333333333332, 'Animation': 0.7, 'Family': 1.8166666666666667, 'Western': 0.25, 'Comedy': 11.516666666666667, 'Romance': 5.866666666666667, 'Horror': 2.1999999999999997, 'Mystery': 1.3333333333333333, 'History': 1.0833333333333333, 'War': 1.45, 'Music': 2.0, 'Documentary': 1.0, 'Foreign': 0.3333333333333333, 'TV Movie': 0}}, {'username': 'Ahish', 'movie_ids': [473, 11036, 9623, 122906, 6964, 302579, 37003, 121676, 157185, 503, 14544, 48988, 270938, 103663, 187017, 11375, 16558, 9804, 11096, 98369, 37137, 11687, 9809, 38778, 12770, 28260, 12506, 14195, 41630, 374461, 253306, 42222, 9279, 115, 47452, 8358, 16642, 258489, 253290, 335, 62116, 453, 606, 7980, 283708, 253253, 12618, 10425, 133694, 9763, 9916, 82525, 9457, 10985, 45658, 1282, 5876, 38570, 171759, 4935, 350, 711, 1844, 362105, 3604, 32275, 1359, 38055, 93456, 59861, 8854, 10034, 13491, 9800, 202604, 250349, 205775, 188166, 60421, 295886, 153518, 211086, 10586, 8871, 9731, 8373, 9823, 28580, 9916, 1257, 496, 46261, 57294, 8413, 27451, 951, 9837, 250546, 176, 4953, 11, 22947, 12106, 17186, 49517, 16784, 2447, 421], 'genre_freq': {'Action': 19, 'Adventure': 18, 'Fantasy': 6, 'Science Fiction': 12, 'Crime': 12, 'Drama': 52, 'Thriller': 18, 'Animation': 5, 'Family': 9, 'Western': 3, 'Comedy': 37, 'Romance': 17, 'Horror': 13, 'Mystery': 7, 'History': 2, 'War': 1, 'Music': 2, 'Documentary': 5, 'Foreign': 1, 'TV Movie': 0}, 'genre_freq_divided': {'Action': 6.2333333333333325, 'Adventure': 6.816666666666666, 'Fantasy': 2.1666666666666665, 'Science Fiction': 4.366666666666667, 'Crime': 4.583333333333333, 'Drama': 30.899999999999988, 'Thriller': 6.283333333333333, 'Animation': 1.5666666666666667, 'Family': 3.4000000000000004, 'Western': 2.5, 'Comedy': 18.866666666666667, 'Romance': 6.583333333333332, 'Horror': 5.833333333333333, 'Mystery': 2.333333333333333, 'History': 0.7, 'War': 0.5, 'Music': 0.7, 'Documentary': 3.3333333333333335, 'Foreign': 0.3333333333333333, 'TV Movie': 0}}, {'username': 'varun', 'movie_ids': [239, 10218, 17264, 84204, 71547, 25968, 539, 25793, 76617, 9991, 25208, 28005, 30139, 48309, 23531, 848, 50646, 177572, 19933, 9683, 11843, 312791, 256687, 9331, 16320, 12159, 13342, 266647, 14191, 8676, 9746, 46989, 11469, 9009, 58492, 22617, 16112, 5176, 11835, 4011, 889, 14220, 12207, 11453, 11062, 6538, 22796, 9730, 6552, 2503, 2989, 38055, 557, 699, 1690, 10521, 5178, 4244, 116977, 9509, 17734, 8198, 36549, 9880, 11690], 'genre_freq': {'Action': 15, 'Adventure': 10, 'Fantasy': 9, 'Science Fiction': 5, 'Crime': 3, 'Drama': 26, 'Thriller': 22, 'Animation': 4, 'Family': 12, 'Western': 1, 'Comedy': 30, 'Romance': 16, 'Horror': 9, 'Mystery': 3, 'History': 2, 'War': 0, 'Music': 1, 'Documentary': 1, 'Foreign': 0, 'TV Movie': 0}, 'genre_freq_divided': {'Action': 5.233333333333334, 'Adventure': 3.2, 'Fantasy': 3.75, 'Science Fiction': 1.2, 'Crime': 0.75, 'Drama': 11.250000000000002, 'Thriller': 7.666666666666666, 'Animation': 0.8166666666666667, 'Family': 4.15, 'Western': 1.0, 'Comedy': 13.81666666666667, 'Romance': 5.999999999999999, 'Horror': 4.0, 'Mystery': 0.8333333333333333, 'History': 0.6666666666666666, 'War': 0, 'Music': 0.16666666666666666, 'Documentary': 0.5, 'Foreign': 0, 'TV Movie': 0}}, {'username': 'ttirth', 'movie_ids': [4234, 26389, 14429, 28211, 10806, 144340, 146, 36668, 9455, 283445, 9587, 17926, 66125, 157909, 64499, 280092, 283445, 75656, 1257, 49521, 36549, 10202, 51540, 76494, 72190, 44564, 26428, 9682, 9988, 30309, 9672, 17113, 36658, 89750, 68718, 2009, 24424, 1273, 39939, 66607, 9656, 27936, 26916, 2895, 14014, 38303, 18238, 18828, 2662, 389, 4011, 49530, 9693, 951, 36355, 9312, 257211, 9389, 129139, 332411, 105864, 9012, 184345, 241259, 211557, 11531], 'genre_freq': {'Action': 16, 'Adventure': 10, 'Fantasy': 5, 'Science Fiction': 9, 'Crime': 8, 'Drama': 26, 'Thriller': 16, 'Animation': 3, 'Family': 6, 'Western': 1, 'Comedy': 26, 'Romance': 11, 'Horror': 12, 'Mystery': 6, 'History': 1, 'War': 0, 'Music': 0, 'Documentary': 2, 'Foreign': 1, 'TV Movie': 0}, 'genre_freq_divided': {'Action': 4.65, 'Adventure': 2.95, 'Fantasy': 2.5, 'Science Fiction': 2.6166666666666667, 'Crime': 3.0, 'Drama': 12.983333333333333, 'Thriller': 5.366666666666666, 'Animation': 0.9166666666666665, 'Family': 1.9166666666666665, 'Western': 0.5, 'Comedy': 13.45, 'Romance': 4.116666666666667, 'Horror': 6.866666666666666, 'Mystery': 1.9999999999999998, 'History': 0.3333333333333333, 'War': 0, 'Music': 0, 'Documentary': 1.5, 'Foreign': 0.3333333333333333, 'TV Movie': 0}}, {'username': 'Sai Tanmay', 'movie_ids': [592, 219, 10740, 3116, 152532, 8007, 2895, 10385, 15670, 204922, 8272, 10375, 68727, 60308, 526, 957, 26390, 309919, 15365, 184315, 63492, 11618, 8841, 90, 170, 15992, 26352, 13538, 105864, 82684, 11543, 7547, 11007], 'genre_freq': {'Action': 6, 'Adventure': 4, 'Fantasy': 2, 'Science Fiction': 2, 'Crime': 7, 'Drama': 19, 'Thriller': 11, 'Animation': 1, 'Family': 1, 'Western': 0, 'Comedy': 10, 'Romance': 4, 'Horror': 3, 'Mystery': 7, 'History': 1, 'War': 1, 'Music': 0, 'Documentary': 0, 'Foreign': 0, 'TV Movie': 0}, 'genre_freq_divided': {'Action': 2.1666666666666665, 'Adventure': 1.3333333333333333, 'Fantasy': 0.5, 'Science Fiction': 0.8333333333333333, 'Crime': 2.1666666666666665, 'Drama': 10.5, 'Thriller': 4.333333333333334, 'Animation': 0.3333333333333333, 'Family': 0.3333333333333333, 'Western': 0, 'Comedy': 5.083333333333334, 'Romance': 1.5833333333333333, 'Horror': 0.8333333333333333, 'Mystery': 2.25, 'History': 0.5, 'War': 0.25, 'Music': 0, 'Documentary': 0, 'Foreign': 0, 'TV Movie': 0}}]\n"
          ],
          "name": "stdout"
        }
      ]
    },
    {
      "cell_type": "code",
      "metadata": {
        "id": "cjDArZ_goZRI",
        "colab_type": "code",
        "colab": {}
      },
      "source": [
        "# feature engineering\n",
        "points = np.array([np.array(list(i['genre_freq'].values())) for i in data])\n",
        "points = points/(np.sum(points, axis=1)[:, None])\n",
        "labels = [i['username'] for i in data]"
      ],
      "execution_count": 0,
      "outputs": []
    },
    {
      "cell_type": "code",
      "metadata": {
        "id": "IzPBuOVem-wo",
        "colab_type": "code",
        "colab": {}
      },
      "source": [
        "def initialise(points, k):\n",
        "  rind = np.random.choice(range(len(points)), k, replace=False)\n",
        "  return np.array([points[i] for i in rind])"
      ],
      "execution_count": 0,
      "outputs": []
    },
    {
      "cell_type": "code",
      "metadata": {
        "id": "p40V9xRjnPh9",
        "colab_type": "code",
        "colab": {}
      },
      "source": [
        "def assign(points, cluster_centers):\n",
        "  cluster_labels = []\n",
        "  for p in points:\n",
        "    mdist = math.inf\n",
        "    clust = -1\n",
        "    for i in range(len(cluster_centers)):\n",
        "      dist = np.sum(np.square(p - cluster_centers[i]))\n",
        "      if dist < mdist:\n",
        "        mdist = dist\n",
        "        clust = i\n",
        "    cluster_labels.append(clust)\n",
        "  return np.array(cluster_labels)"
      ],
      "execution_count": 0,
      "outputs": []
    },
    {
      "cell_type": "code",
      "metadata": {
        "id": "6BjGnzsknSqd",
        "colab_type": "code",
        "colab": {}
      },
      "source": [
        "def recalculate_cluster_centers(points, cluster_labels, k):\n",
        "  cluster_centers = []\n",
        "  for i in range(k):\n",
        "    sump = np.zeros(points.shape[1])\n",
        "    count = 0\n",
        "    for j in range(len(points)):\n",
        "      if cluster_labels[j] == i:\n",
        "        sump = sump + points[j]\n",
        "        count += 1\n",
        "    if count != 0:\n",
        "      sump = sump / count\n",
        "    cluster_centers.append(sump)\n",
        "  return np.array(cluster_centers)"
      ],
      "execution_count": 0,
      "outputs": []
    },
    {
      "cell_type": "code",
      "metadata": {
        "id": "ggmP93iYnXdm",
        "colab_type": "code",
        "colab": {}
      },
      "source": [
        "def KMeans(points, k):\n",
        "  cluster_labels = np.zeros((points.shape[0]))\n",
        "  cluster_centers = initialise(points, k)\n",
        "  initial_centers = cluster_centers.copy()\n",
        "  old_cluster_centers = np.zeros(cluster_centers.shape)\n",
        "\n",
        "  while not (old_cluster_centers == cluster_centers).all():\n",
        "    old_cluster_centers = cluster_centers.copy()\n",
        "    cluster_labels = assign(points, cluster_centers)\n",
        "    cluster_centers = recalculate_cluster_centers(points, cluster_labels, k)\n",
        "  \n",
        "  return cluster_labels, initial_centers, cluster_centers"
      ],
      "execution_count": 0,
      "outputs": []
    },
    {
      "cell_type": "code",
      "metadata": {
        "id": "qnvciQhznbih",
        "colab_type": "code",
        "colab": {
          "base_uri": "https://localhost:8080/",
          "height": 260
        },
        "outputId": "675e7f9d-dee9-4cc1-9d84-60edee2db6a9"
      },
      "source": [
        "K = 3\n",
        "cluster_labels, initial_centers, final_centers = KMeans(points, K)\n",
        "\n",
        "# printing cluster number along with username\n",
        "# cannot plot graph since high dimensional\n",
        "for i in range(len(cluster_labels)):\n",
        "  print(cluster_labels[i], labels[i])"
      ],
      "execution_count": 102,
      "outputs": [
        {
          "output_type": "stream",
          "text": [
            "2 Sai Shashank\n",
            "2 George\n",
            "0 yoogottamk\n",
            "1 Aman\n",
            "0 Ayan\n",
            "1 Kalyan\n",
            "2 abhishek\n",
            "1 aryamaan\n",
            "1 Ammar\n",
            "2 Avani\n",
            "1 Ahish\n",
            "0 varun\n",
            "0 ttirth\n",
            "2 Sai Tanmay\n"
          ],
          "name": "stdout"
        }
      ]
    }
  ]
}