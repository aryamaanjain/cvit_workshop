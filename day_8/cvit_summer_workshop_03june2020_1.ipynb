{
  "nbformat": 4,
  "nbformat_minor": 0,
  "metadata": {
    "colab": {
      "name": "cvit_summer_workshop_03june2020_1.ipynb",
      "provenance": [],
      "toc_visible": true
    },
    "kernelspec": {
      "name": "python3",
      "display_name": "Python 3"
    }
  },
  "cells": [
    {
      "cell_type": "markdown",
      "metadata": {
        "id": "jbEFlQOVnRZW",
        "colab_type": "text"
      },
      "source": [
        "# Linear Algebra, image compression using svd"
      ]
    },
    {
      "cell_type": "code",
      "metadata": {
        "id": "cNMdXKe1nIFo",
        "colab_type": "code",
        "colab": {}
      },
      "source": [
        "import numpy as np\n",
        "import matplotlib.pyplot as plt\n",
        "import cv2\n",
        "from google.colab.patches import cv2_imshow"
      ],
      "execution_count": 0,
      "outputs": []
    },
    {
      "cell_type": "code",
      "metadata": {
        "id": "CiwMqHu0oB6h",
        "colab_type": "code",
        "colab": {
          "base_uri": "https://localhost:8080/",
          "height": 223
        },
        "outputId": "e4fafb58-020d-4af4-9e56-73006ca5e22d"
      },
      "source": [
        "img = cv2.imread('flag.png', 0)\n",
        "cv2_imshow(img)\n",
        "print('dimensions =' ,img.shape)\n",
        "print('integers to store =', img.shape[0] * img.shape[1])"
      ],
      "execution_count": 4,
      "outputs": [
        {
          "output_type": "display_data",
          "data": {
            "image/png": "[encoded data removed]",
            "text/plain": [
              "<PIL.Image.Image image mode=L size=256x171 at 0x7F673EAF6668>"
            ]
          },
          "metadata": {
            "tags": []
          }
        },
        {
          "output_type": "stream",
          "text": [
            "dimensions = (171, 256)\n",
            "integers to store = 43776\n"
          ],
          "name": "stdout"
        }
      ]
    },
    {
      "cell_type": "code",
      "metadata": {
        "id": "IT3GPndntf3m",
        "colab_type": "code",
        "colab": {
          "base_uri": "https://localhost:8080/",
          "height": 188
        },
        "outputId": "18a129c3-34f8-437e-a2e5-650ab8882646"
      },
      "source": [
        "# not compressed using svd\n",
        "u, d, vt = np.linalg.svd(img)\n",
        "dd = np.hstack((np.diag(d), np.zeros((171, 256-171))))\n",
        "cimg = u @ dd @ vt\n",
        "cv2_imshow(cimg)"
      ],
      "execution_count": 17,
      "outputs": [
        {
          "output_type": "display_data",
          "data": {
            "image/png": "[encoded data removed]",
            "text/plain": [
              "<PIL.Image.Image image mode=L size=256x171 at 0x7F673BF2B940>"
            ]
          },
          "metadata": {
            "tags": []
          }
        }
      ]
    },
    {
      "cell_type": "code",
      "metadata": {
        "id": "zNtsYH6bpRAP",
        "colab_type": "code",
        "colab": {
          "base_uri": "https://localhost:8080/",
          "height": 188
        },
        "outputId": "e547b47b-3f4c-4b1a-a7bf-32bc5ba63ffd"
      },
      "source": [
        "# compressed using svd\n",
        "u, d, vt = np.linalg.svd(img)\n",
        "component = 10\n",
        "d[component:] = 0\n",
        "dd = np.diag(d)[:component, :component]\n",
        "uu = u[:, :component]\n",
        "vvt = vt[:component, :]\n",
        "cimg = uu @ dd @ vvt\n",
        "cv2_imshow(cimg)"
      ],
      "execution_count": 45,
      "outputs": [
        {
          "output_type": "display_data",
          "data": {
            "image/png": "[encoded data removed]",
            "text/plain": [
              "<PIL.Image.Image image mode=L size=256x171 at 0x7F673B712048>"
            ]
          },
          "metadata": {
            "tags": []
          }
        }
      ]
    },
    {
      "cell_type": "code",
      "metadata": {
        "id": "pQ0QKNAjwRYW",
        "colab_type": "code",
        "colab": {
          "base_uri": "https://localhost:8080/",
          "height": 34
        },
        "outputId": "acab0f0c-8b7b-40aa-e68d-c6d7319411fb"
      },
      "source": [
        "# compression ratio\n",
        "original = img.shape[0] * img.shape[1]\n",
        "compressed = uu.shape[0] * uu.shape[1] + vvt.shape[0] * vvt.shape[1] + component\n",
        "print(original, compressed, original/compressed)"
      ],
      "execution_count": 46,
      "outputs": [
        {
          "output_type": "stream",
          "text": [
            "43776 4280 10.22803738317757\n"
          ],
          "name": "stdout"
        }
      ]
    },
    {
      "cell_type": "code",
      "metadata": {
        "id": "nnGV7hb-xGr-",
        "colab_type": "code",
        "colab": {
          "base_uri": "https://localhost:8080/",
          "height": 279
        },
        "outputId": "9caa9f97-4393-428d-8b3a-e0f624a85112"
      },
      "source": [
        "# Plot drop of d\n",
        "u, d, vt = np.linalg.svd(img)\n",
        "index = [i for i in range(len(d))]\n",
        "plt.plot(index, d)\n",
        "plt.xlabel('diagonal i')\n",
        "plt.ylabel('magnitude')\n",
        "plt.show()"
      ],
      "execution_count": 39,
      "outputs": [
        {
          "output_type": "display_data",
          "data": {
            "image/png": "[encoded data removed]",
            "text/plain": [
              "<Figure size 432x288 with 1 Axes>"
            ]
          },
          "metadata": {
            "tags": [],
            "needs_background": "light"
          }
        }
      ]
    },
    {
      "cell_type": "code",
      "metadata": {
        "id": "t4Z2OlnWzekg",
        "colab_type": "code",
        "colab": {
          "base_uri": "https://localhost:8080/",
          "height": 34
        },
        "outputId": "4ca90119-c513-48f4-8914-07cd54b1c923"
      },
      "source": [
        "# information preserved\n",
        "print(sum(d[:10]) / sum(d))"
      ],
      "execution_count": 42,
      "outputs": [
        {
          "output_type": "stream",
          "text": [
            "0.9514078716468192\n"
          ],
          "name": "stdout"
        }
      ]
    }
  ]
}