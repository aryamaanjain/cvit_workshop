{
  "nbformat": 4,
  "nbformat_minor": 0,
  "metadata": {
    "colab": {
      "name": "cvit_summer_workshop_03june2020_2.ipynb",
      "provenance": [],
      "collapsed_sections": [
        "U1hi3kBXTOxF"
      ]
    },
    "kernelspec": {
      "name": "python3",
      "display_name": "Python 3"
    }
  },
  "cells": [
    {
      "cell_type": "markdown",
      "metadata": {
        "id": "4t2xq1kGSiJp",
        "colab_type": "text"
      },
      "source": [
        "# supervised learning, clustering"
      ]
    },
    {
      "cell_type": "markdown",
      "metadata": {
        "id": "xrB_hdpqTKZj",
        "colab_type": "text"
      },
      "source": [
        "## In class"
      ]
    },
    {
      "cell_type": "code",
      "metadata": {
        "id": "DGIkwTlET7Kz",
        "colab_type": "code",
        "colab": {}
      },
      "source": [
        "import numpy as np\n",
        "import matplotlib.pyplot as plt\n",
        "import math\n",
        "from sklearn.datasets import make_circles"
      ],
      "execution_count": 0,
      "outputs": []
    },
    {
      "cell_type": "code",
      "metadata": {
        "id": "Ksmpf5QSPSzY",
        "colab_type": "code",
        "colab": {}
      },
      "source": [
        "def plot_clusters(points, cluster_labels, show_annotation=True):\n",
        "  clusters = [[[], []] for i in range(len(np.unique(cluster_labels)))]\n",
        "  for i in range(len(points)):\n",
        "    clusters[int(cluster_labels[i])][0].append(points[i][0])\n",
        "    clusters[int(cluster_labels[i])][1].append(points[i][1])\n",
        "  \n",
        "  for i in clusters:\n",
        "    plt.scatter(i[0], i[1])\n",
        "\n",
        "  if show_annotation == True:\n",
        "    count = 0\n",
        "    for i in points:\n",
        "      plt.annotate(count, (i[0]+0.05, i[1]))\n",
        "      count += 1\n",
        "\n",
        "  plt.legend(np.unique(cluster_labels))"
      ],
      "execution_count": 0,
      "outputs": []
    },
    {
      "cell_type": "code",
      "metadata": {
        "id": "keSoUZEPT49N",
        "colab_type": "code",
        "outputId": "7c685271-803b-41cd-bd09-6d720c8319b9",
        "colab": {
          "base_uri": "https://localhost:8080/",
          "height": 265
        }
      },
      "source": [
        "np.random.seed(2)\n",
        "points = np.vstack((np.random.normal(0,0.5,size=(4,2)),np.random.normal(3,0.5,size=(4,2))))\n",
        "points = np.vstack((points, np.array([[1.5,1.5]])))\n",
        "points = np.vstack((points, np.array([[1.25,1.25]])))\n",
        "cluster_labels = np.zeros(10)\n",
        "plot_clusters(points, cluster_labels)\n",
        "plt.show()"
      ],
      "execution_count": 188,
      "outputs": [
        {
          "output_type": "display_data",
          "data": {
            "image/png": "[encoded data removed]",
            "text/plain": [
              "<Figure size 432x288 with 1 Axes>"
            ]
          },
          "metadata": {
            "tags": [],
            "needs_background": "light"
          }
        }
      ]
    },
    {
      "cell_type": "code",
      "metadata": {
        "id": "kZ0_wOptbsgS",
        "colab_type": "code",
        "colab": {}
      },
      "source": [
        "def heatmap(grid, xlabels, ylabels, xrot=90):   \n",
        "    cmap = cm.get_cmap(\"viridis\")\n",
        "    plt.imshow(grid, cmap=cmap)\n",
        "    plt.xticks(np.arange(0,grid.shape[1],step=1), xlabels, rotation=xrot)\n",
        "    plt.yticks(np.arange(0, grid.shape[0], step=1), ylabels)"
      ],
      "execution_count": 0,
      "outputs": []
    },
    {
      "cell_type": "code",
      "metadata": {
        "id": "SRByLLqxbugL",
        "colab_type": "code",
        "colab": {}
      },
      "source": [
        "def initialise(points, k):\n",
        "  # return K,2 array\n",
        "  rind = np.random.choice(range(len(points)), k, replace=False)\n",
        "  return np.array([points[i] for i in rind])"
      ],
      "execution_count": 0,
      "outputs": []
    },
    {
      "cell_type": "code",
      "metadata": {
        "id": "krj_dgukjvPE",
        "colab_type": "code",
        "colab": {}
      },
      "source": [
        "def assign(points, cluster_centers):\n",
        "  cluster_labels = []\n",
        "  for p in points:\n",
        "    mdist = math.inf\n",
        "    clust = -1\n",
        "    for i in range(len(cluster_centers)):\n",
        "      dist = math.sqrt((cluster_centers[i][0] - p[0])**2 + (cluster_centers[i][1] - p[1])**2)\n",
        "      if dist < mdist:\n",
        "        mdist = dist\n",
        "        clust = i\n",
        "    cluster_labels.append(clust)\n",
        "  return np.array(cluster_labels)"
      ],
      "execution_count": 0,
      "outputs": []
    },
    {
      "cell_type": "code",
      "metadata": {
        "id": "zNtZdcIAo1sD",
        "colab_type": "code",
        "outputId": "fbeccbb6-62d0-47c9-b9d9-edba8a69eb80",
        "colab": {
          "base_uri": "https://localhost:8080/",
          "height": 34
        }
      },
      "source": [
        "# Testing\n",
        "np.random.seed(2)\n",
        "points = np.vstack((np.random.normal(0,0.5,size=(4,2)),np.random.normal(3,0.5,size=(4,2))))\n",
        "points = np.vstack((points, np.array([[1.5,1.5]])))\n",
        "points = np.vstack((points, np.array([[1.25,1.25]])))\n",
        "\n",
        "# cluster_centers = initialise(points, 3)\n",
        "# print(assign(points, cluster_centers))\n",
        "\n",
        "np.random.seed(2)\n",
        "cluster_centers = np.array([[0,0], [1,1], [2,2]])\n",
        "cluster_labels = assign(points, cluster_centers)\n",
        "print(cluster_labels)"
      ],
      "execution_count": 192,
      "outputs": [
        {
          "output_type": "stream",
          "text": [
            "[0 0 0 0 2 2 2 2 1 1]\n"
          ],
          "name": "stdout"
        }
      ]
    },
    {
      "cell_type": "code",
      "metadata": {
        "id": "Btu_4abLrkke",
        "colab_type": "code",
        "colab": {}
      },
      "source": [
        "def recalculate_cluster_centers(points, cluster_labels, k):\n",
        "  cluster_centers = []\n",
        "  for i in range(k):\n",
        "    sump = [0, 0]\n",
        "    count = 0\n",
        "    for j in range(len(points)):\n",
        "      if cluster_labels[j] == i:\n",
        "        sump[0] += points[j][0]\n",
        "        sump[1] += points[j][1]\n",
        "        count += 1\n",
        "    if count != 0:\n",
        "      sump[0] /= count\n",
        "      sump[1] /= count\n",
        "    else:\n",
        "      sump[0] = 0.0\n",
        "      sump[1] = 0.0\n",
        "    cluster_centers.append(sump)\n",
        "  return np.array(cluster_centers)"
      ],
      "execution_count": 0,
      "outputs": []
    },
    {
      "cell_type": "code",
      "metadata": {
        "id": "HDkanAmosmM_",
        "colab_type": "code",
        "outputId": "8c9ed792-bc00-4548-9ad9-861c45727cb4",
        "colab": {
          "base_uri": "https://localhost:8080/",
          "height": 69
        }
      },
      "source": [
        "# Testing\n",
        "print(recalculate_cluster_centers(points, cluster_labels, 3))"
      ],
      "execution_count": 194,
      "outputs": [
        {
          "output_type": "stream",
          "text": [
            "[[-0.48043851 -0.06287893]\n",
            " [ 1.375       1.375     ]\n",
            " [ 3.00926244  2.95863941]]\n"
          ],
          "name": "stdout"
        }
      ]
    },
    {
      "cell_type": "code",
      "metadata": {
        "id": "WR9zNkwywViL",
        "colab_type": "code",
        "colab": {}
      },
      "source": [
        "def KMeans(points, k):\n",
        "  cluster_labels = np.zeros((points.shape[0]))\n",
        "  cluster_centers = initialise(points, k)\n",
        "  initial_centers = cluster_centers.copy()\n",
        "  old_cluster_centers = np.zeros(cluster_centers.shape)\n",
        "\n",
        "  while not (old_cluster_centers == cluster_centers).all():\n",
        "    old_cluster_centers = cluster_centers.copy()\n",
        "    cluster_labels = assign(points, cluster_centers)\n",
        "    cluster_centers = recalculate_cluster_centers(points, cluster_labels, k)\n",
        "  \n",
        "  return cluster_labels, initial_centers, cluster_centers"
      ],
      "execution_count": 0,
      "outputs": []
    },
    {
      "cell_type": "code",
      "metadata": {
        "id": "e0nnOMlMxbyn",
        "colab_type": "code",
        "outputId": "a380a4c6-a03e-465a-a19c-dd250165489b",
        "colab": {
          "base_uri": "https://localhost:8080/",
          "height": 265
        }
      },
      "source": [
        "np.random.seed(2)\n",
        "K = 5\n",
        "X = []\n",
        "for i in range(5):\n",
        "    X.append(np.random.normal(2**i,(i+1)/5, size=(20,2)))\n",
        "\n",
        "points = np.vstack(X)\n",
        "plot_clusters(points, np.zeros((points.shape[0])), show_annotation=False)"
      ],
      "execution_count": 196,
      "outputs": [
        {
          "output_type": "display_data",
          "data": {
            "image/png": "[encoded data removed]",
            "text/plain": [
              "<Figure size 432x288 with 1 Axes>"
            ]
          },
          "metadata": {
            "tags": [],
            "needs_background": "light"
          }
        }
      ]
    },
    {
      "cell_type": "code",
      "metadata": {
        "id": "iVb6qTh6xrQl",
        "colab_type": "code",
        "outputId": "cf680009-fa20-414a-cf3d-ebcbebcf0214",
        "colab": {
          "base_uri": "https://localhost:8080/",
          "height": 265
        }
      },
      "source": [
        "cluster_labels, initial_centers, final_centers = KMeans(points, K)\n",
        "plot_clusters(points, cluster_labels, show_annotation=False)"
      ],
      "execution_count": 197,
      "outputs": [
        {
          "output_type": "display_data",
          "data": {
            "image/png": "[encoded data removed]",
            "text/plain": [
              "<Figure size 432x288 with 1 Axes>"
            ]
          },
          "metadata": {
            "tags": [],
            "needs_background": "light"
          }
        }
      ]
    },
    {
      "cell_type": "code",
      "metadata": {
        "id": "rBjOscJB0uMo",
        "colab_type": "code",
        "outputId": "a9f8af33-16fa-4997-b849-2c5f0996ef5d",
        "colab": {
          "base_uri": "https://localhost:8080/",
          "height": 265
        }
      },
      "source": [
        "points, _ = make_circles(100, noise=0.06, factor=0.5)\n",
        "plt.scatter(points[:,0], points[:,1])\n",
        "plt.show()"
      ],
      "execution_count": 198,
      "outputs": [
        {
          "output_type": "display_data",
          "data": {
            "image/png": "[encoded data removed]",
            "text/plain": [
              "<Figure size 432x288 with 1 Axes>"
            ]
          },
          "metadata": {
            "tags": [],
            "needs_background": "light"
          }
        }
      ]
    },
    {
      "cell_type": "code",
      "metadata": {
        "id": "B-Ux0Xpc1Ww6",
        "colab_type": "code",
        "outputId": "e542a93c-f740-487e-8998-1b93dab93972",
        "colab": {
          "base_uri": "https://localhost:8080/",
          "height": 265
        }
      },
      "source": [
        "cluster_labels, initial_centers, final_centers = KMeans(points, 2)\n",
        "plot_clusters(points, cluster_labels, show_annotation=False)"
      ],
      "execution_count": 199,
      "outputs": [
        {
          "output_type": "display_data",
          "data": {
            "image/png": "[encoded data removed]",
            "text/plain": [
              "<Figure size 432x288 with 1 Axes>"
            ]
          },
          "metadata": {
            "tags": [],
            "needs_background": "light"
          }
        }
      ]
    },
    {
      "cell_type": "markdown",
      "metadata": {
        "id": "U1hi3kBXTOxF",
        "colab_type": "text"
      },
      "source": [
        "## Task 1\n",
        "**Task**: Take average after multiple initialisations.  \n",
        "**Observation**: After multiple runs, their outputs seem about the same. Outputs are not consistent and give similar results as without average.  "
      ]
    },
    {
      "cell_type": "code",
      "metadata": {
        "id": "2DCLmCWuTU6R",
        "colab_type": "code",
        "colab": {}
      },
      "source": [
        "def KMeans_avg(points, k):\n",
        "  cluster_labels = np.zeros((points.shape[0]))\n",
        "  \n",
        "  # taking average here\n",
        "  cluster_centers = initialise(points, k)\n",
        "  if n > 1:\n",
        "    cluster_centers += cluster_centers_avg\n",
        "    cluster_centers /= n\n",
        "\n",
        "  initial_centers = cluster_centers.copy()\n",
        "  old_cluster_centers = np.zeros(cluster_centers.shape)\n",
        "\n",
        "  while not (old_cluster_centers == cluster_centers).all():\n",
        "    old_cluster_centers = cluster_centers.copy()\n",
        "    cluster_labels = assign(points, cluster_centers)\n",
        "    cluster_centers = recalculate_cluster_centers(points, cluster_labels, k)\n",
        "  \n",
        "  return cluster_labels, initial_centers, cluster_centers"
      ],
      "execution_count": 0,
      "outputs": []
    },
    {
      "cell_type": "code",
      "metadata": {
        "id": "BElyOH9_ZHe_",
        "colab_type": "code",
        "colab": {}
      },
      "source": [
        "# Testing\n",
        "np.random.seed(2)\n",
        "K = 5\n",
        "X = []\n",
        "for i in range(5):\n",
        "    X.append(np.random.normal(2**i,(i+1)/5, size=(20,2)))\n",
        "\n",
        "points = np.vstack(X)\n",
        "# plot_clusters(points, np.zeros((points.shape[0])), show_annotation=False)"
      ],
      "execution_count": 0,
      "outputs": []
    },
    {
      "cell_type": "code",
      "metadata": {
        "id": "Tu46iYloZ5X7",
        "colab_type": "code",
        "colab": {
          "base_uri": "https://localhost:8080/",
          "height": 265
        },
        "outputId": "6f4bf77b-2445-492b-d739-f729cefed4ce"
      },
      "source": [
        "n = 1\n",
        "cluster_centers_avg = None\n",
        "\n",
        "for i in range(100):\n",
        "  cluster_labels, initial_centers, final_centers = KMeans_avg(points, K)\n",
        "  if n > 1:\n",
        "    cluster_centers_avg += final_centers\n",
        "  else:\n",
        "    cluster_centers_avg = final_centers\n",
        "  n += 1\n",
        "plot_clusters(points, cluster_labels, show_annotation=False)"
      ],
      "execution_count": 202,
      "outputs": [
        {
          "output_type": "display_data",
          "data": {
            "image/png": "[encoded data removed]",
            "text/plain": [
              "<Figure size 432x288 with 1 Axes>"
            ]
          },
          "metadata": {
            "tags": [],
            "needs_background": "light"
          }
        }
      ]
    },
    {
      "cell_type": "markdown",
      "metadata": {
        "id": "-K7ODCW3bwP3",
        "colab_type": "text"
      },
      "source": [
        "## Task 2\n",
        "**Task**: Convert concentric circle example to $r,\\theta$ space.  \n",
        "**Observation**: Needed to do feature modification by multiplying r by 10 to get results."
      ]
    },
    {
      "cell_type": "code",
      "metadata": {
        "id": "SRrMh5dJpm2S",
        "colab_type": "code",
        "colab": {}
      },
      "source": [
        "points, _ = make_circles(100, noise=0.06, factor=0.5)\n",
        "points_rt = []  # r theta\n",
        "for i in points:\n",
        "  r = math.sqrt(i[0]**2 + i[1]**2)\n",
        "  t = math.atan(i[1]/i[0])\n",
        "  points_rt.append([10*r, t])\n",
        "points = np.array(points_rt)"
      ],
      "execution_count": 0,
      "outputs": []
    },
    {
      "cell_type": "code",
      "metadata": {
        "id": "K8KEh20MpQjN",
        "colab_type": "code",
        "colab": {
          "base_uri": "https://localhost:8080/",
          "height": 279
        },
        "outputId": "78183155-bef3-41fe-893a-5da0e037a5e4"
      },
      "source": [
        "cluster_labels, initial_centers, final_centers = KMeans(points, 2)\n",
        "plot_clusters(points, cluster_labels, show_annotation=False)\n",
        "plt.xlabel('10 * r')\n",
        "plt.ylabel('theta')\n",
        "plt.show()"
      ],
      "execution_count": 204,
      "outputs": [
        {
          "output_type": "display_data",
          "data": {
            "image/png": "[encoded data removed]",
            "text/plain": [
              "<Figure size 432x288 with 1 Axes>"
            ]
          },
          "metadata": {
            "tags": [],
            "needs_background": "light"
          }
        }
      ]
    }
  ]
}