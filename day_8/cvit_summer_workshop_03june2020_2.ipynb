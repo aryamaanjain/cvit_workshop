{
  "nbformat": 4,
  "nbformat_minor": 0,
  "metadata": {
    "colab": {
      "name": "cvit_summer_workshop_03june2020_2.ipynb",
      "provenance": []
    },
    "kernelspec": {
      "name": "python3",
      "display_name": "Python 3"
    }
  },
  "cells": [
    {
      "cell_type": "markdown",
      "metadata": {
        "id": "4t2xq1kGSiJp",
        "colab_type": "text"
      },
      "source": [
        "# supervised learning, clustering"
      ]
    },
    {
      "cell_type": "code",
      "metadata": {
        "id": "DGIkwTlET7Kz",
        "colab_type": "code",
        "colab": {}
      },
      "source": [
        "import numpy as np\n",
        "import matplotlib.pyplot as plt\n",
        "import math\n",
        "from sklearn.datasets import make_circles"
      ],
      "execution_count": 0,
      "outputs": []
    },
    {
      "cell_type": "code",
      "metadata": {
        "id": "Ksmpf5QSPSzY",
        "colab_type": "code",
        "colab": {}
      },
      "source": [
        "# def plot_clusters(points, cluster_labels, show_annotation=True):\n",
        "#   clusters = [[] for i in range(len(np.unique(cluster_labels)))]\n",
        "#   for i in range(len(points)):\n",
        "#     clusters[i].append(points[int(cluster_labels[i])])\n",
        "  \n",
        "\n",
        "def plot_clusters(points, cluster_labels, offset=0.01, show_annotation=True):\n",
        "    cluster_labels = np.array(cluster_labels)\n",
        "    un_clusters = np.unique(cluster_labels)\n",
        "    \n",
        "    points = np.array(points)\n",
        "    \n",
        "    for cluster in un_clusters:\n",
        "        plt.scatter(points[cluster_labels == cluster, 0],points[cluster_labels == cluster, 1], label=cluster)\n",
        "    \n",
        "    if show_annotation:\n",
        "        for i in range(points.shape[0]):\n",
        "            plt.annotate(i, (points[i,0]+offset, points[i,1]+offset))\n",
        "    plt.legend()"
      ],
      "execution_count": 0,
      "outputs": []
    },
    {
      "cell_type": "code",
      "metadata": {
        "id": "keSoUZEPT49N",
        "colab_type": "code",
        "outputId": "5fbb79b9-54d8-4933-bcaa-e5446bc14c2d",
        "colab": {
          "base_uri": "https://localhost:8080/",
          "height": 265
        }
      },
      "source": [
        "np.random.seed(2)\n",
        "points = np.vstack((np.random.normal(0,0.5,size=(4,2)),np.random.normal(3,0.5,size=(4,2))))\n",
        "points = np.vstack((points, np.array([[1.5,1.5]])))\n",
        "points = np.vstack((points, np.array([[1.25,1.25]])))\n",
        "cluster_labels = np.zeros(10)\n",
        "plot_clusters(points, cluster_labels)\n",
        "plt.show()"
      ],
      "execution_count": 0,
      "outputs": [
        {
          "output_type": "display_data",
          "data": {
            "image/png": "[encoded data removed]",
            "text/plain": [
              "<Figure size 432x288 with 1 Axes>"
            ]
          },
          "metadata": {
            "tags": [],
            "needs_background": "light"
          }
        }
      ]
    },
    {
      "cell_type": "code",
      "metadata": {
        "id": "kZ0_wOptbsgS",
        "colab_type": "code",
        "colab": {}
      },
      "source": [
        "def heatmap(grid, xlabels, ylabels, xrot=90):   \n",
        "    cmap = cm.get_cmap(\"viridis\")\n",
        "    plt.imshow(grid, cmap=cmap)\n",
        "    plt.xticks(np.arange(0,grid.shape[1],step=1), xlabels, rotation=xrot)\n",
        "    plt.yticks(np.arange(0, grid.shape[0], step=1), ylabels)"
      ],
      "execution_count": 0,
      "outputs": []
    },
    {
      "cell_type": "code",
      "metadata": {
        "id": "SRByLLqxbugL",
        "colab_type": "code",
        "colab": {}
      },
      "source": [
        "def initialise(points, k):\n",
        "  # return K,2 array\n",
        "  rind = np.random.choice(range(len(points)), k, replace=False)\n",
        "  return np.array([points[i] for i in rind])"
      ],
      "execution_count": 0,
      "outputs": []
    },
    {
      "cell_type": "code",
      "metadata": {
        "id": "krj_dgukjvPE",
        "colab_type": "code",
        "colab": {}
      },
      "source": [
        "def assign(points, cluster_centers):\n",
        "  cluster_labels = []\n",
        "  for p in points:\n",
        "    mdist = math.inf\n",
        "    clust = -1\n",
        "    for i in range(len(cluster_centers)):\n",
        "      dist = math.sqrt((cluster_centers[i][0] - p[0])**2 + (cluster_centers[i][1] - p[1])**2)\n",
        "      if dist < mdist:\n",
        "        mdist = dist\n",
        "        clust = i\n",
        "    cluster_labels.append(clust)\n",
        "  return np.array(cluster_labels)"
      ],
      "execution_count": 0,
      "outputs": []
    },
    {
      "cell_type": "code",
      "metadata": {
        "id": "zNtZdcIAo1sD",
        "colab_type": "code",
        "outputId": "a857a989-549e-4bf5-9a1c-59de467deeee",
        "colab": {
          "base_uri": "https://localhost:8080/",
          "height": 34
        }
      },
      "source": [
        "# Testing\n",
        "np.random.seed(2)\n",
        "points = np.vstack((np.random.normal(0,0.5,size=(4,2)),np.random.normal(3,0.5,size=(4,2))))\n",
        "points = np.vstack((points, np.array([[1.5,1.5]])))\n",
        "points = np.vstack((points, np.array([[1.25,1.25]])))\n",
        "\n",
        "# cluster_centers = initialise(points, 3)\n",
        "# print(assign(points, cluster_centers))\n",
        "\n",
        "np.random.seed(2)\n",
        "cluster_centers = np.array([[0,0], [1,1], [2,2]])\n",
        "cluster_labels = assign(points, cluster_centers)\n",
        "print(cluster_labels)"
      ],
      "execution_count": 0,
      "outputs": [
        {
          "output_type": "stream",
          "text": [
            "[0 0 0 0 2 2 2 2 1 1]\n"
          ],
          "name": "stdout"
        }
      ]
    },
    {
      "cell_type": "code",
      "metadata": {
        "id": "Btu_4abLrkke",
        "colab_type": "code",
        "colab": {}
      },
      "source": [
        "def recalculate_cluster_centers(points, cluster_labels, k):\n",
        "  cluster_centers = []\n",
        "  for i in range(k):\n",
        "    sump = [0, 0]\n",
        "    count = 0\n",
        "    for j in range(len(points)):\n",
        "      if cluster_labels[j] == i:\n",
        "        sump[0] += points[j][0]\n",
        "        sump[1] += points[j][1]\n",
        "        count += 1\n",
        "    sump[0] /= count\n",
        "    sump[1] /= count\n",
        "    cluster_centers.append(sump)\n",
        "  return np.array(cluster_centers)"
      ],
      "execution_count": 0,
      "outputs": []
    },
    {
      "cell_type": "code",
      "metadata": {
        "id": "HDkanAmosmM_",
        "colab_type": "code",
        "outputId": "35f4bc2a-44db-4a39-fe20-30df8b1d711c",
        "colab": {
          "base_uri": "https://localhost:8080/",
          "height": 69
        }
      },
      "source": [
        "# Testing\n",
        "print(recalculate_cluster_centers(points, cluster_labels, 3))"
      ],
      "execution_count": 0,
      "outputs": [
        {
          "output_type": "stream",
          "text": [
            "[[-0.48043851 -0.06287893]\n",
            " [ 1.375       1.375     ]\n",
            " [ 3.00926244  2.95863941]]\n"
          ],
          "name": "stdout"
        }
      ]
    },
    {
      "cell_type": "code",
      "metadata": {
        "id": "WR9zNkwywViL",
        "colab_type": "code",
        "colab": {}
      },
      "source": [
        "def KMeans(points, k):\n",
        "  cluster_labels = np.zeros((points.shape[0]))\n",
        "  cluster_centers = initialise(points, k)\n",
        "  initial_centers = cluster_centers.copy()\n",
        "  old_cluster_centers = np.zeros(cluster_centers.shape)\n",
        "\n",
        "  while not (old_cluster_centers == cluster_centers).all():\n",
        "    old_cluster_centers = cluster_centers.copy()\n",
        "    cluster_labels = assign(points, cluster_centers)\n",
        "    cluster_centers = recalculate_cluster_centers(points, cluster_labels, k)\n",
        "  \n",
        "  return cluster_labels, initial_centers, cluster_centers"
      ],
      "execution_count": 0,
      "outputs": []
    },
    {
      "cell_type": "code",
      "metadata": {
        "id": "e0nnOMlMxbyn",
        "colab_type": "code",
        "outputId": "8553b8fb-26eb-4579-a85f-3a0bcfd43d32",
        "colab": {
          "base_uri": "https://localhost:8080/",
          "height": 265
        }
      },
      "source": [
        "np.random.seed(2)\n",
        "K = 5\n",
        "X = []\n",
        "for i in range(5):\n",
        "    X.append(np.random.normal(2**i,(i+1)/5, size=(20,2)))\n",
        "\n",
        " \n",
        "\n",
        "points = np.vstack(X)\n",
        "plot_clusters(points, np.zeros((points.shape[0])), show_annotation=False)"
      ],
      "execution_count": 0,
      "outputs": [
        {
          "output_type": "display_data",
          "data": {
            "image/png": "[encoded data removed]",
            "text/plain": [
              "<Figure size 432x288 with 1 Axes>"
            ]
          },
          "metadata": {
            "tags": [],
            "needs_background": "light"
          }
        }
      ]
    },
    {
      "cell_type": "code",
      "metadata": {
        "id": "iVb6qTh6xrQl",
        "colab_type": "code",
        "outputId": "3a67dfc8-a384-46e6-bb84-e5a9b931f267",
        "colab": {
          "base_uri": "https://localhost:8080/",
          "height": 265
        }
      },
      "source": [
        "cluster_labels, initial_centers, final_centers = KMeans(points, K)\n",
        "plot_clusters(points, cluster_labels, show_annotation=False)"
      ],
      "execution_count": 0,
      "outputs": [
        {
          "output_type": "display_data",
          "data": {
            "image/png": "[encoded data removed]",
            "text/plain": [
              "<Figure size 432x288 with 1 Axes>"
            ]
          },
          "metadata": {
            "tags": [],
            "needs_background": "light"
          }
        }
      ]
    },
    {
      "cell_type": "code",
      "metadata": {
        "id": "rBjOscJB0uMo",
        "colab_type": "code",
        "outputId": "f8680954-ae6b-4eb6-ace5-4a2249180a5b",
        "colab": {
          "base_uri": "https://localhost:8080/",
          "height": 265
        }
      },
      "source": [
        "points, _ = make_circles(100, noise=0.06, factor=0.5)\n",
        "plt.scatter(points[:,0], points[:,1])\n",
        "plt.show()"
      ],
      "execution_count": 0,
      "outputs": [
        {
          "output_type": "display_data",
          "data": {
            "image/png": "[encoded data removed]",
            "text/plain": [
              "<Figure size 432x288 with 1 Axes>"
            ]
          },
          "metadata": {
            "tags": [],
            "needs_background": "light"
          }
        }
      ]
    },
    {
      "cell_type": "code",
      "metadata": {
        "id": "B-Ux0Xpc1Ww6",
        "colab_type": "code",
        "outputId": "c8fd01dd-eec6-46ac-b6a9-93fb67f2b409",
        "colab": {
          "base_uri": "https://localhost:8080/",
          "height": 265
        }
      },
      "source": [
        "cluster_labels, initial_centers, final_centers = KMeans(points, 2)\n",
        "plot_clusters(points, cluster_labels, show_annotation=False)"
      ],
      "execution_count": 0,
      "outputs": [
        {
          "output_type": "display_data",
          "data": {
            "image/png": "[encoded data removed]",
            "text/plain": [
              "<Figure size 432x288 with 1 Axes>"
            ]
          },
          "metadata": {
            "tags": [],
            "needs_background": "light"
          }
        }
      ]
    }
  ]
}