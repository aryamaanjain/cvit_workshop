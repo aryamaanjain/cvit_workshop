{
  "nbformat": 4,
  "nbformat_minor": 0,
  "metadata": {
    "colab": {
      "name": "cnn_classification.ipynb",
      "provenance": [],
      "collapsed_sections": []
    },
    "kernelspec": {
      "name": "python3",
      "display_name": "Python 3"
    }
  },
  "cells": [
    {
      "cell_type": "markdown",
      "metadata": {
        "id": "KS-OtRgn66-z",
        "colab_type": "text"
      },
      "source": [
        "# CNN classification\n",
        "- Classification is done for 3 shapes: circles, squares and triangles.\n",
        "- There are 100 images in each class.\n",
        "- Each image is of size 28$\\times$28 with 1 channel.\n",
        "- Dataset contains images as img_n.png where (n mod 3) == (0, 1, 2) correspond to (circles, squares, triangles).\n",
        "- Train-test will have 80-20 spilt giving 240 images to train and 60 to test.\n",
        "- Images will be processes in batches of 30.\n",
        "- **Result**: Accuracy of 81% was achieved. This shows that this model is learning since a random model would predict with 33% accuracy."
      ]
    },
    {
      "cell_type": "markdown",
      "metadata": {
        "id": "f7_PGuhwG0VU",
        "colab_type": "text"
      },
      "source": [
        "## Imports"
      ]
    },
    {
      "cell_type": "code",
      "metadata": {
        "id": "jEjT4uyJsaH5",
        "colab_type": "code",
        "colab": {}
      },
      "source": [
        "import torch\n",
        "import torch.nn as nn\n",
        "import torch.nn.functional as F\n",
        "import torch.optim as optim\n",
        "import numpy as np\n",
        "import cv2"
      ],
      "execution_count": 0,
      "outputs": []
    },
    {
      "cell_type": "markdown",
      "metadata": {
        "id": "_T_2ua3aHx95",
        "colab_type": "text"
      },
      "source": [
        "## Data loader"
      ]
    },
    {
      "cell_type": "code",
      "metadata": {
        "id": "NanPq2qkH1_s",
        "colab_type": "code",
        "colab": {}
      },
      "source": [
        "def give_labels():\n",
        "  labels = []\n",
        "  for i in range(30):\n",
        "    labels.append(i%3)\n",
        "  return torch.Tensor(labels).long()\n",
        "  \n",
        "def give_train_data():\n",
        "  data = []\n",
        "  batch = []\n",
        "  labels = give_labels()\n",
        "\n",
        "  for i in range(240):\n",
        "    filename = 'data/img_' + str(i) + '.png'\n",
        "    batch.append(cv2.imread(filename, 0))\n",
        "    if i % 30 == 29:\n",
        "      batch = np.expand_dims(np.array(batch), 1)\n",
        "      data.append(((torch.from_numpy(batch)).float(), labels))\n",
        "      batch = []\n",
        "  return data\n",
        "\n",
        "def give_test_data():\n",
        "  data = []\n",
        "  batch = []\n",
        "  labels = give_labels()\n",
        "\n",
        "  for i in range(240, 300):\n",
        "    filename = 'data/img_' + str(i) + '.png'\n",
        "    batch.append(cv2.imread(filename, 0))\n",
        "    if i % 30 == 29:\n",
        "      batch = np.expand_dims(np.array(batch), 1)\n",
        "      data.append(((torch.from_numpy(batch)).float(), labels))\n",
        "      batch = []\n",
        "  return data"
      ],
      "execution_count": 0,
      "outputs": []
    },
    {
      "cell_type": "markdown",
      "metadata": {
        "id": "E6w_uWGxG4p2",
        "colab_type": "text"
      },
      "source": [
        "## Defining network"
      ]
    },
    {
      "cell_type": "code",
      "metadata": {
        "id": "bvfmjFkstWXV",
        "colab_type": "code",
        "colab": {}
      },
      "source": [
        "class Net(nn.Module):\n",
        "\n",
        "    def __init__(self):\n",
        "        super(Net, self).__init__()\n",
        "        # 1 input image channel, 6 output channels, 3x3 square convolution kernel\n",
        "        self.conv1 = nn.Conv2d(in_channels=1, out_channels=8, kernel_size=3, stride=1, padding=1)\n",
        "        self.conv2 = nn.Conv2d(in_channels=8, out_channels=8, kernel_size=3, stride=1, padding=1)\n",
        "        # an affine operation: y = Wx + b\n",
        "        self.fc1 = nn.Linear(8 * 7 * 7, 128)  # 7*7 from image dimension\n",
        "        self.fc2 = nn.Linear(128, 64)\n",
        "        self.fc3 = nn.Linear(64, 3)\n",
        "\n",
        "    def forward(self, x):\n",
        "        # Max pooling over a (2, 2) window\n",
        "        x = F.max_pool2d(F.relu(self.conv1(x)), 2)\n",
        "        x = F.max_pool2d(F.relu(self.conv2(x)), 2)\n",
        "        x = x.view(x.size(0), -1)\n",
        "        x = F.relu(self.fc1(x))\n",
        "        x = F.relu(self.fc2(x))\n",
        "        x = F.log_softmax(self.fc3(x), dim=1)\n",
        "        # x = F.softmax(self.fc3(x), dim=1)\n",
        "        return x\n",
        "\n",
        "net = Net()"
      ],
      "execution_count": 0,
      "outputs": []
    },
    {
      "cell_type": "markdown",
      "metadata": {
        "id": "0DAS3ixYGvEE",
        "colab_type": "text"
      },
      "source": [
        "## Training"
      ]
    },
    {
      "cell_type": "code",
      "metadata": {
        "id": "sM8XiZ8jthWy",
        "colab_type": "code",
        "colab": {}
      },
      "source": [
        "criterion = nn.CrossEntropyLoss()\n",
        "optimizer = optim.SGD(net.parameters(), lr=0.001, momentum=0.9)"
      ],
      "execution_count": 0,
      "outputs": []
    },
    {
      "cell_type": "code",
      "metadata": {
        "id": "wEupzjlxFzIO",
        "colab_type": "code",
        "outputId": "06e7b8d8-4cf0-4d2e-db8e-fe5f27af7c06",
        "colab": {
          "base_uri": "https://localhost:8080/",
          "height": 729
        }
      },
      "source": [
        "for epoch in range(40):  # loop over the dataset multiple times\n",
        "    rloss = 0\n",
        "    for i, data in enumerate(give_train_data(), 0):\n",
        "        # get the inputs; data is a list of [inputs, labels]\n",
        "        inputs, labels = data\n",
        "\n",
        "        # zero the parameter gradients\n",
        "        optimizer.zero_grad()\n",
        "\n",
        "        # forward + backward + optimize\n",
        "        outputs = net(inputs)\n",
        "        loss = criterion(outputs, labels)\n",
        "        loss.backward()\n",
        "        optimizer.step()\n",
        "        \n",
        "        rloss += loss.item()\n",
        "\n",
        "    print('[%d] loss: %.3f' % (epoch + 1, rloss/8))\n",
        "        \n",
        "print('Finished Training')"
      ],
      "execution_count": 239,
      "outputs": [
        {
          "output_type": "stream",
          "text": [
            "[1] loss: 1.170\n",
            "[2] loss: 1.104\n",
            "[3] loss: 1.101\n",
            "[4] loss: 1.097\n",
            "[5] loss: 1.091\n",
            "[6] loss: 1.086\n",
            "[7] loss: 1.079\n",
            "[8] loss: 1.071\n",
            "[9] loss: 1.060\n",
            "[10] loss: 1.049\n",
            "[11] loss: 1.031\n",
            "[12] loss: 1.012\n",
            "[13] loss: 0.996\n",
            "[14] loss: 0.980\n",
            "[15] loss: 0.939\n",
            "[16] loss: 0.891\n",
            "[17] loss: 0.825\n",
            "[18] loss: 0.740\n",
            "[19] loss: 0.823\n",
            "[20] loss: 0.825\n",
            "[21] loss: 1.086\n",
            "[22] loss: 0.807\n",
            "[23] loss: 0.657\n",
            "[24] loss: 0.549\n",
            "[25] loss: 0.466\n",
            "[26] loss: 0.403\n",
            "[27] loss: 0.343\n",
            "[28] loss: 0.280\n",
            "[29] loss: 0.231\n",
            "[30] loss: 0.190\n",
            "[31] loss: 0.143\n",
            "[32] loss: 0.107\n",
            "[33] loss: 0.080\n",
            "[34] loss: 0.070\n",
            "[35] loss: 0.049\n",
            "[36] loss: 0.037\n",
            "[37] loss: 0.031\n",
            "[38] loss: 0.024\n",
            "[39] loss: 0.020\n",
            "[40] loss: 0.017\n",
            "Finished Training\n"
          ],
          "name": "stdout"
        }
      ]
    },
    {
      "cell_type": "markdown",
      "metadata": {
        "id": "BWDn5R_CGrTL",
        "colab_type": "text"
      },
      "source": [
        "## Testing"
      ]
    },
    {
      "cell_type": "code",
      "metadata": {
        "id": "jbHDFxrYGqMA",
        "colab_type": "code",
        "outputId": "2e296a0e-68b0-4e43-9373-cea40a55bc19",
        "colab": {
          "base_uri": "https://localhost:8080/",
          "height": 34
        }
      },
      "source": [
        "correct = 0\n",
        "total = 0\n",
        "with torch.no_grad():\n",
        "    for data in give_test_data():\n",
        "        images, labels = data\n",
        "        outputs = net(images)\n",
        "        _, predicted = torch.max(outputs.data, 1)\n",
        "        total += labels.size(0)\n",
        "        correct += (predicted == labels).sum().item()\n",
        "\n",
        "print('Accuracy of the network on the 60 test images: %d %%' % (100 * correct / total))"
      ],
      "execution_count": 240,
      "outputs": [
        {
          "output_type": "stream",
          "text": [
            "Accuracy of the network on the 60 test images: 81 %\n"
          ],
          "name": "stdout"
        }
      ]
    }
  ]
}