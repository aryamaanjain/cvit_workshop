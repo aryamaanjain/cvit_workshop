{
  "nbformat": 4,
  "nbformat_minor": 0,
  "metadata": {
    "colab": {
      "name": "cvit_summer_workshop_26May2020_1.ipynb",
      "provenance": [],
      "collapsed_sections": []
    },
    "kernelspec": {
      "name": "python3",
      "display_name": "Python 3"
    }
  },
  "cells": [
    {
      "cell_type": "markdown",
      "metadata": {
        "id": "KMv5lrn1hU-e",
        "colab_type": "text"
      },
      "source": [
        "- 26 May 2020, 09:00am to 09:30am and 11:15am to 12:00pm\n",
        "- basic python\n",
        "- numpy\n",
        "- graphs"
      ]
    },
    {
      "cell_type": "code",
      "metadata": {
        "id": "V2T4pMSJIegr",
        "colab_type": "code",
        "outputId": "cc815768-0061-45a6-cb2b-fa0fb19da2ac",
        "colab": {
          "base_uri": "https://localhost:8080/",
          "height": 34
        }
      },
      "source": [
        "# Task 1.1\n",
        "a = [1,2,3,4,5,6,7,8,9]\n",
        "print(a[::-1])"
      ],
      "execution_count": 0,
      "outputs": [
        {
          "output_type": "stream",
          "text": [
            "[9, 8, 7, 6, 5, 4, 3, 2, 1]\n"
          ],
          "name": "stdout"
        }
      ]
    },
    {
      "cell_type": "code",
      "metadata": {
        "id": "72DZ2hDhIrHX",
        "colab_type": "code",
        "outputId": "f1e6624b-03d5-4e09-ae0a-f9f24fd505da",
        "colab": {
          "base_uri": "https://localhost:8080/",
          "height": 34
        }
      },
      "source": [
        "# Task 1.2\n",
        "a = [1,2,3,4,5,6,7,8,9]\n",
        "print(a[-5:])"
      ],
      "execution_count": 0,
      "outputs": [
        {
          "output_type": "stream",
          "text": [
            "[5, 6, 7, 8, 9]\n"
          ],
          "name": "stdout"
        }
      ]
    },
    {
      "cell_type": "code",
      "metadata": {
        "id": "WNBCx6aEJbk0",
        "colab_type": "code",
        "outputId": "701f2155-fba4-438a-9ec5-c9709e807b44",
        "colab": {
          "base_uri": "https://localhost:8080/",
          "height": 34
        }
      },
      "source": [
        "# Task 1.3\n",
        "a = [1,2,3,4,5,6,7,8,9]\n",
        "del a[2]\n",
        "print(a)"
      ],
      "execution_count": 0,
      "outputs": [
        {
          "output_type": "stream",
          "text": [
            "[1, 2, 4, 5, 6, 7, 8, 9]\n"
          ],
          "name": "stdout"
        }
      ]
    },
    {
      "cell_type": "code",
      "metadata": {
        "id": "YXGoiF37Jjex",
        "colab_type": "code",
        "outputId": "640ad1b9-b2e0-4934-a1d5-9b7c8c57d292",
        "colab": {
          "base_uri": "https://localhost:8080/",
          "height": 52
        }
      },
      "source": [
        "x = dict([(pow(10,r),r) for r in range(10)])\n",
        "# Task 2.1\n",
        "print(x.keys())\n",
        "# Task 2.2\n",
        "del x[100]\n",
        "print(x)"
      ],
      "execution_count": 0,
      "outputs": [
        {
          "output_type": "stream",
          "text": [
            "dict_keys([1, 10, 100, 1000, 10000, 100000, 1000000, 10000000, 100000000, 1000000000])\n",
            "{1: 0, 10: 1, 1000: 3, 10000: 4, 100000: 5, 1000000: 6, 10000000: 7, 100000000: 8, 1000000000: 9}\n"
          ],
          "name": "stdout"
        }
      ]
    },
    {
      "cell_type": "code",
      "metadata": {
        "id": "2mLmsccwg2_k",
        "colab_type": "code",
        "outputId": "f4db71bf-05ae-4bbb-849d-7f7c7961a6eb",
        "colab": {
          "base_uri": "https://localhost:8080/",
          "height": 34
        }
      },
      "source": [
        "# Task 2.3\n",
        "x = dict([(pow(10,r),r) for r in range(10)])\n",
        "kv = []\n",
        "for i in x.keys():\n",
        "  kv.append((i, x[i]))\n",
        "kv.sort(key=lambda a: a[0]%101)\n",
        "print(kv)"
      ],
      "execution_count": 0,
      "outputs": [
        {
          "output_type": "stream",
          "text": [
            "[(1, 0), (10000, 4), (100000000, 8), (10, 1), (100000, 5), (1000000000, 9), (1000, 3), (10000000, 7), (100, 2), (1000000, 6)]\n"
          ],
          "name": "stdout"
        }
      ]
    },
    {
      "cell_type": "code",
      "metadata": {
        "id": "qbcl6qOyhxOU",
        "colab_type": "code",
        "outputId": "df7a039a-cbd1-45a1-9dd0-df269728be6c",
        "colab": {
          "base_uri": "https://localhost:8080/",
          "height": 191
        }
      },
      "source": [
        "# Task 3\n",
        "import numpy as np\n",
        "a = np.random.random((3,3))\n",
        "u, d, v = np.linalg.svd(a)\n",
        "\n",
        "print(v.T @ np.diag(1/d) @ u.T)\n",
        "print(np.linalg.inv(a))"
      ],
      "execution_count": 0,
      "outputs": [
        {
          "output_type": "stream",
          "text": [
            "[[ 1.84511549 -0.27263427 -0.10751766]\n",
            " [-1.328726    1.70887017 -0.49740141]\n",
            " [-1.36984677 -0.66004714  2.02272941]]\n",
            "[[ 1.84511549 -0.27263427 -0.10751766]\n",
            " [-1.328726    1.70887017 -0.49740141]\n",
            " [-1.36984677 -0.66004714  2.02272941]]\n",
            "[[0.63447882 0.         0.        ]\n",
            " [0.         2.44317573 0.        ]\n",
            " [0.         0.         2.90781782]]\n",
            "[0.63447882 2.44317573 2.90781782]\n"
          ],
          "name": "stdout"
        }
      ]
    },
    {
      "cell_type": "code",
      "metadata": {
        "id": "3CrsCAPnoXER",
        "colab_type": "code",
        "outputId": "f0438e9f-8377-4d3b-fe1b-31b0082736cb",
        "colab": {
          "base_uri": "https://localhost:8080/",
          "height": 279
        }
      },
      "source": [
        "# Task 4.1 plot\n",
        "import matplotlib.pyplot as plt\n",
        "\n",
        "x = np.arange(0, 2*np.pi, 0.1)\n",
        "y = np.sin(x)\n",
        "\n",
        "plt.plot(x, y)\n",
        "plt.xlabel('angle(radians)')\n",
        "plt.ylabel('sin')\n",
        "plt.show()"
      ],
      "execution_count": 0,
      "outputs": [
        {
          "output_type": "display_data",
          "data": {
            "image/png": "[encoded data removed]",
            "text/plain": [
              "<Figure size 432x288 with 1 Axes>"
            ]
          },
          "metadata": {
            "tags": [],
            "needs_background": "light"
          }
        }
      ]
    },
    {
      "cell_type": "code",
      "metadata": {
        "id": "EvmoS0Dl5d4q",
        "colab_type": "code",
        "outputId": "690b2fc8-ada1-4e0b-8a38-ecbbd665346a",
        "colab": {
          "base_uri": "https://localhost:8080/",
          "height": 279
        }
      },
      "source": [
        "# Task 4.2 scatter\n",
        "import matplotlib.pyplot as plt\n",
        "\n",
        "x = np.arange(0, 2*np.pi, 0.1)\n",
        "y = np.sin(x)\n",
        "\n",
        "plt.scatter(x, y)\n",
        "plt.xlabel('angle(radians)')\n",
        "plt.ylabel('sin')\n",
        "plt.show()"
      ],
      "execution_count": 0,
      "outputs": [
        {
          "output_type": "display_data",
          "data": {
            "image/png": "[encoded data removed]",
            "text/plain": [
              "<Figure size 432x288 with 1 Axes>"
            ]
          },
          "metadata": {
            "tags": [],
            "needs_background": "light"
          }
        }
      ]
    }
  ]
}