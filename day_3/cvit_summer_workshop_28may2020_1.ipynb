{
  "nbformat": 4,
  "nbformat_minor": 0,
  "metadata": {
    "colab": {
      "name": "cvit_summer_workshop_28may2020_1.ipynb",
      "provenance": []
    },
    "kernelspec": {
      "name": "python3",
      "display_name": "Python 3"
    }
  },
  "cells": [
    {
      "cell_type": "code",
      "metadata": {
        "id": "BgvAeYkpT2S4",
        "colab_type": "code",
        "colab": {}
      },
      "source": [
        "import numpy as np\n",
        "import cv2\n",
        "from google.colab.patches import cv2_imshow\n",
        "from matplotlib import pyplot as plt\n",
        "import plotly\n",
        "from skimage import io\n",
        "from skimage import morphology as morp\n",
        "import plotly.express as px\n",
        "import plotly.graph_objects as go"
      ],
      "execution_count": 0,
      "outputs": []
    },
    {
      "cell_type": "code",
      "metadata": {
        "id": "jcI3Xy8bxk0B",
        "colab_type": "code",
        "outputId": "6f3c1611-4a90-4a21-c98a-ae2b750cdace",
        "colab": {
          "base_uri": "https://localhost:8080/",
          "height": 790
        }
      },
      "source": [
        "I = cv2.imread('coins.jpg', cv2.IMREAD_GRAYSCALE)\n",
        "# cv2_imshow(I)\n",
        "\n",
        "kernel = np.array([\n",
        "          [0,0,0,0,1,0,0,0,0],\n",
        "          [0,0,0,1,1,1,0,0,0],\n",
        "          [0,0,1,1,1,1,1,0,0],\n",
        "          [0,1,1,1,1,1,1,1,0],\n",
        "          [1,1,1,1,1,1,1,1,1],\n",
        "          [0,1,1,1,1,1,1,1,0],\n",
        "          [0,0,1,1,1,1,1,0,0],\n",
        "          [0,0,0,1,1,1,0,0,0],\n",
        "          [0,0,0,0,1,0,0,0,0]\n",
        "], dtype='uint8')\n",
        "erosion = cv2.erode(I,kernel,iterations = 2)\n",
        "\n",
        "d = 10\n",
        "for i in range(d, I.shape[0]-d):\n",
        "  for j in range(d, I.shape[1]-d):\n",
        "    erosion[i,j] = 0\n",
        "\n",
        "dilation = cv2.dilate(erosion,kernel,iterations = 2)\n",
        "cv2_imshow(dilation)"
      ],
      "execution_count": 0,
      "outputs": [
        {
          "output_type": "display_data",
          "data": {
            "image/png": "[encoded data removed]",
            "text/plain": [
              "<PIL.Image.Image image mode=L size=444x773 at 0x7F4532D3BB70>"
            ]
          },
          "metadata": {
            "tags": []
          }
        }
      ]
    },
    {
      "cell_type": "code",
      "metadata": {
        "id": "cpG1mRXh3Y72",
        "colab_type": "code",
        "outputId": "817613b3-ebbd-4218-ac43-b4a645b9fcb1",
        "colab": {
          "base_uri": "https://localhost:8080/",
          "height": 790
        }
      },
      "source": [
        "# making kernel\n",
        "se = morp.disk(1)\n",
        "for i in range(se.shape[0]):\n",
        "  for j in range(se.shape[1]):\n",
        "    if se[i, j] == 1:\n",
        "      se[i, j] = 0\n",
        "    elif se[i, j] == 0:\n",
        "      se[i, j] = 1\n",
        "\n",
        "\n",
        "# k = morp.disk(3)\n",
        "K = np.array([[0 ,0 ,0 ,1, 0, 0, 0],\n",
        " [0 ,1, 1, 0, 1, 1, 0],\n",
        " [0 ,1, 0, 0, 0, 1, 0],\n",
        " [1 ,0, 0, 0, 0, 0, 1],\n",
        " [0 ,1, 0, 0, 0, 1, 0],\n",
        " [0 ,1, 1, 0, 1, 1, 0],\n",
        " [0 ,0, 0, 1, 0, 0, 0]], dtype='uint8')\n",
        "I = cv2.imread('coins.jpg', cv2.IMREAD_GRAYSCALE)\n",
        "for i in range(I.shape[0]):\n",
        "  for j in range(I.shape[1]):\n",
        "    if I[i,j] > 100:\n",
        "      I[i,j] = 255\n",
        "    else:\n",
        "      I[i,j] = 0\n",
        "\n",
        "E = cv2.erode(I, k, iterations=1)\n",
        "# M = cv2.morphologyEx(E, cv2.MORPH_HITMISS, se)\n",
        "D = cv2.dilate(E, k, iterations=1)\n",
        "R = np.zeros_like(D)\n",
        "for i in range(R.shape[0]):\n",
        "  for j in range(R.shape[1]):\n",
        "    if I[i,j] != D[i,j]:\n",
        "      R[i,j] = 255\n",
        "    else:\n",
        "      R[i,j] = 0\n",
        "R = cv2.erode(R, k, iterations=1)\n",
        "# R = cv2.dilate(R, k, iterations=1)\n",
        "\n",
        "cv2_imshow(np.hstack([I, R]))"
      ],
      "execution_count": 140,
      "outputs": [
        {
          "output_type": "display_data",
          "data": {
            "image/png": "[encoded data removed]",
            "text/plain": [
              "<PIL.Image.Image image mode=L size=888x773 at 0x7F4532B9C518>"
            ]
          },
          "metadata": {
            "tags": []
          }
        }
      ]
    },
    {
      "cell_type": "code",
      "metadata": {
        "id": "_WzpdKkVk01b",
        "colab_type": "code",
        "colab": {
          "base_uri": "https://localhost:8080/",
          "height": 790
        },
        "outputId": "d0e7e6c8-d821-4573-8dd3-197b048e001d"
      },
      "source": [
        "# read image\n",
        "I = cv2.imread('coins.jpg', cv2.IMREAD_GRAYSCALE)\n",
        "for i in range(I.shape[0]):\n",
        "  for j in range(I.shape[1]):\n",
        "    if I[i,j] > 100:\n",
        "      I[i,j] = 255\n",
        "    else:\n",
        "      I[i,j] = 0\n",
        "\n",
        "k1 = morp.disk(2)\n",
        "k2 = -1 * np.ones((20,20))\n",
        "k2[5:10, 5:10] = k1\n",
        "\n",
        "M = cv2.morphologyEx(I, cv2.MORPH_HITMISS, k2)\n",
        "D = cv2.cv2.dilate(M, k1, iterations=1)\n",
        "cv2_imshow(D)"
      ],
      "execution_count": 157,
      "outputs": [
        {
          "output_type": "display_data",
          "data": {
            "image/png": "[encoded data removed]",
            "text/plain": [
              "<PIL.Image.Image image mode=L size=444x773 at 0x7F4532C08BA8>"
            ]
          },
          "metadata": {
            "tags": []
          }
        }
      ]
    },
    {
      "cell_type": "code",
      "metadata": {
        "id": "WotSGCU0L9gE",
        "colab_type": "code",
        "colab": {
          "base_uri": "https://localhost:8080/",
          "height": 790
        },
        "outputId": "2670bd4e-5301-4a06-b951-1b4a7acf0c6e"
      },
      "source": [
        "# read image\n",
        "I = cv2.imread('coins.jpg', cv2.IMREAD_GRAYSCALE)\n",
        "for i in range(I.shape[0]):\n",
        "  for j in range(I.shape[1]):\n",
        "    if I[i,j] > 100:\n",
        "      I[i,j] = 255\n",
        "    else:\n",
        "      I[i,j] = 0\n",
        "\n",
        "# read image, complement\n",
        "J = cv2.imread('coins.jpg', cv2.IMREAD_GRAYSCALE)\n",
        "for i in range(J.shape[0]):\n",
        "  for j in range(J.shape[1]):\n",
        "    if J[i,j] > 100:\n",
        "      J[i,j] = 0\n",
        "    else:\n",
        "      J[i,j] = 255\n",
        "\n",
        "# first erosion\n",
        "k1 = morp.disk(10)\n",
        "D1 = cv2.erode(I, k1, iterations=1)\n",
        "\n",
        "#second erosion\n",
        "k3 = morp.disk(11)\n",
        "J = cv2.dilate(J, k3, iterations=1)\n",
        "k2 = morp.disk(2)[1:-1, 1:-1] - morp.disk(1)\n",
        "D2 = cv2.erode(J, k2, iterations=1)\n",
        "\n",
        "cv2_imshow(np.hstack([D1, D2]))\n"
      ],
      "execution_count": 185,
      "outputs": [
        {
          "output_type": "display_data",
          "data": {
            "image/png": "[encoded data removed]",
            "text/plain": [
              "<PIL.Image.Image image mode=L size=888x773 at 0x7F4532BABD30>"
            ]
          },
          "metadata": {
            "tags": []
          }
        }
      ]
    }
  ]
}