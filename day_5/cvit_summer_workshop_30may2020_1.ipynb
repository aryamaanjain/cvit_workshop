{
  "nbformat": 4,
  "nbformat_minor": 0,
  "metadata": {
    "colab": {
      "name": "cvit_summer_workshop_30may2020_1.ipynb",
      "provenance": []
    },
    "kernelspec": {
      "name": "python3",
      "display_name": "Python 3"
    }
  },
  "cells": [
    {
      "cell_type": "markdown",
      "metadata": {
        "id": "r1h-gUT8pHEA",
        "colab_type": "text"
      },
      "source": [
        "# Probability and statistics"
      ]
    },
    {
      "cell_type": "markdown",
      "metadata": {
        "id": "Ii28y7nB6tqF",
        "colab_type": "text"
      },
      "source": [
        "Cancer Test Example\n",
        "\n",
        "Let us apply Bayes' Rule to a Cancer Test Example which is a very common example in Statistic classes. Suppose, there is a certain type of cancer which is extremely rare.\n",
        "\n",
        "Let,\n",
        "P(C)=0.001\n",
        "In other words, 1 in every 1000 people has this cancer. Can you compute the probability of not having cancer?\n",
        "P(¬C) = 1-0.001 = 0.999\n",
        "\n",
        "The test for cancer is not 100% accurate. Let us say, probability of the test being positive given someone has cancer is,\n",
        "P(pos|C)=0.8\n",
        "Can you compute the probability that the test is negative given someone has cancer?\n",
        "P(neg|C)=1-0.8=0.2\n",
        "\n",
        "Similarly, the probability of a test being positive given that someone has no cancer is P(pos|¬C)=0.1. Can you compute the probability that the test is negative given someone has no cancer?\n",
        "P(neg|¬C)=1-0.1=0.9\n",
        "\n",
        "Can you compute the following?\n",
        "P(C|pos)=P(pos|c)xP(c)/P(pos) = 0.8x0.001/(0.80x001+0.1x0.999)  \n",
        "Interpret the quantity you computed in words!\n",
        "\n",
        "What we computed is very interesting. We computed probability of having cancer given the test results and how likely the disease is.\n"
      ]
    },
    {
      "cell_type": "code",
      "metadata": {
        "id": "BS9nO19Gmsya",
        "colab_type": "code",
        "colab": {}
      },
      "source": [
        "# Modify the empty list, p, so that it becomes a UNIFORM probability\n",
        "# distribution over n grid cells, as expressed in a list of \n",
        "# n probabilities.\n",
        "def init_distribution(n):\n",
        "    p = [1/n for i in range(n)]\n",
        "    return p"
      ],
      "execution_count": 0,
      "outputs": []
    },
    {
      "cell_type": "code",
      "metadata": {
        "id": "aZF-AtXn-XjP",
        "colab_type": "code",
        "outputId": "2acd1ed3-21d6-433b-dd19-f33c0be39624",
        "colab": {
          "base_uri": "https://localhost:8080/",
          "height": 52
        }
      },
      "source": [
        "#Modify the code below so that the function sense, which \n",
        "#takes p and Z as inputs, will output the normalized \n",
        "#probability distribution, q, after multiplying the entries \n",
        "# in p according to the color in the corresponding cell in world,\n",
        "# followed by normalization of the probability values\n",
        "world=['green', 'red', 'red', 'green', 'green']\n",
        "p = [0.2, 0.2, 0.2, 0.2, 0.2]\n",
        "\n",
        "def sense(p, Z):\n",
        "    temp = []\n",
        "    for i in range(len(p)):\n",
        "      a = 0.75 if world[i] == Z else 0.25\n",
        "      temp.append(p[i]*a)\n",
        "    \n",
        "    q = [temp[i]/sum(temp) for i in range(len(temp))]\n",
        "    return q\n",
        "            \n",
        "print(sense(p, 'red'))\n",
        "print(sense(p, 'green'))"
      ],
      "execution_count": 8,
      "outputs": [
        {
          "output_type": "stream",
          "text": [
            "[0.11111111111111112, 0.33333333333333337, 0.33333333333333337, 0.11111111111111112, 0.11111111111111112]\n",
            "[0.27272727272727276, 0.09090909090909091, 0.09090909090909091, 0.27272727272727276, 0.27272727272727276]\n"
          ],
          "name": "stdout"
        }
      ]
    },
    {
      "cell_type": "code",
      "metadata": {
        "id": "RlEDr5awDah7",
        "colab_type": "code",
        "outputId": "9991c0e6-45d3-496d-de2d-2cc2ed32a7b2",
        "colab": {
          "base_uri": "https://localhost:8080/",
          "height": 34
        }
      },
      "source": [
        "#Modify the code so that it updates the probability twice\n",
        "#and gives the posterior distribution after both \n",
        "#measurements are incorporated. Make sure that your code \n",
        "#allows for any sequence of measurement of any length.\n",
        "\n",
        "# DO NOT MODIFY THE SENSE FUNCTION. JUST CALL THE SENSE FUNCTION APPROPRIATELY\n",
        "\n",
        "p=[0.2, 0.2, 0.2, 0.2, 0.2]\n",
        "world=['green', 'red', 'red', 'green', 'green']\n",
        "measurements = ['red', 'green']\n",
        "\n",
        "# Add your code here\n",
        "p = sense(p, 'red')\n",
        "p = sense(p, 'green')\n",
        "# End your code here\n",
        "print(p)"
      ],
      "execution_count": 9,
      "outputs": [
        {
          "output_type": "stream",
          "text": [
            "[0.19999999999999998, 0.19999999999999998, 0.19999999999999998, 0.19999999999999998, 0.19999999999999998]\n"
          ],
          "name": "stdout"
        }
      ]
    },
    {
      "cell_type": "code",
      "metadata": {
        "id": "9Cz3_-T9GP6m",
        "colab_type": "code",
        "outputId": "3e029f36-ae77-411c-9ed7-5648e1b08358",
        "colab": {
          "base_uri": "https://localhost:8080/",
          "height": 34
        }
      },
      "source": [
        "#Program a function that returns a new distribution \n",
        "#q, shifted to the right by U units. If U=0, q should \n",
        "#be the same as p.\n",
        "\n",
        "def move(p, U):\n",
        "    q = []\n",
        "    # ADD CODE HERE\n",
        "    for i in range(len(p)):\n",
        "      loc = (i-U) % len(p)\n",
        "      q.append(p[loc])\n",
        "    # END CODE HERE\n",
        "    return q\n",
        "\n",
        "move([0.11, 0.33, 0.33, 0.11, 0.11], 1)"
      ],
      "execution_count": 10,
      "outputs": [
        {
          "output_type": "execute_result",
          "data": {
            "text/plain": [
              "[0.11, 0.11, 0.33, 0.33, 0.11]"
            ]
          },
          "metadata": {
            "tags": []
          },
          "execution_count": 10
        }
      ]
    },
    {
      "cell_type": "code",
      "metadata": {
        "id": "9AJvOnHhJq8m",
        "colab_type": "code",
        "outputId": "b99868c4-1d2a-4079-f42e-fc1a07d88197",
        "colab": {
          "base_uri": "https://localhost:8080/",
          "height": 34
        }
      },
      "source": [
        "# Inexact motion\n",
        "def move_inexact(p, U):\n",
        "    q = [0 for i in range(len(p))]\n",
        "    # ADD CODE HERE\n",
        "    for i in range(len(p)):\n",
        "      q[(i+U-1) % len(p)] += 0.1 * p[i]\n",
        "      q[(i+U) % len(p)]   += 0.8 * p[i]\n",
        "      q[(i+U+1) % len(p)] += 0.1 * p[i]\n",
        "    # END CODE HERE\n",
        "    return q\n",
        "\n",
        "print(move_inexact([0, 1.0, 0, 0, 0], 1))"
      ],
      "execution_count": 11,
      "outputs": [
        {
          "output_type": "stream",
          "text": [
            "[0.0, 0.1, 0.8, 0.1, 0.0]\n"
          ],
          "name": "stdout"
        }
      ]
    },
    {
      "cell_type": "code",
      "metadata": {
        "id": "Ms5Ia1fB1Npz",
        "colab_type": "code",
        "colab": {
          "base_uri": "https://localhost:8080/",
          "height": 34
        },
        "outputId": "749cfae0-d05c-4739-c526-298e69d1d602"
      },
      "source": [
        "# Write code that makes the robot move twice and then prints \n",
        "# out the resulting distribution, starting with the initial \n",
        "# distribution p = [0, 1, 0, 0, 0]\n",
        "\n",
        "# Call the function appropriately from here\n",
        "\n",
        "# ADD CODE HERE\n",
        "p = [0, 1, 0, 0, 0]\n",
        "for i in range(2):\n",
        "  p = move_inexact(p,1)\n",
        "# END CODE HERE\n",
        "print(p)"
      ],
      "execution_count": 12,
      "outputs": [
        {
          "output_type": "stream",
          "text": [
            "[0.010000000000000002, 0.010000000000000002, 0.16000000000000003, 0.6600000000000001, 0.16000000000000003]\n"
          ],
          "name": "stdout"
        }
      ]
    },
    {
      "cell_type": "code",
      "metadata": {
        "id": "w9r5hSUXRCz-",
        "colab_type": "code",
        "outputId": "6f950712-35a7-48bb-bfe5-13b1204a4970",
        "colab": {
          "base_uri": "https://localhost:8080/",
          "height": 34
        }
      },
      "source": [
        "#write code that moves 1000 times and then prints the \n",
        "#resulting probability distribution.\n",
        "\n",
        "p = [0, 1, 0, 0, 0]\n",
        "# ADD CODE HERE\n",
        "for i in range(1000):\n",
        "  p = move_inexact(p,1)\n",
        "# END CODE HERE\n",
        "print(p)"
      ],
      "execution_count": 13,
      "outputs": [
        {
          "output_type": "stream",
          "text": [
            "[0.2000000000000035, 0.20000000000000362, 0.2000000000000035, 0.2000000000000035, 0.2000000000000035]\n"
          ],
          "name": "stdout"
        }
      ]
    },
    {
      "cell_type": "code",
      "metadata": {
        "id": "8LQsvpbdRPzS",
        "colab_type": "code",
        "colab": {
          "base_uri": "https://localhost:8080/",
          "height": 34
        },
        "outputId": "3e33bdbb-278c-41ec-abfe-b611b3e5ee41"
      },
      "source": [
        "#Given the list motions=[1,1] which means the robot \n",
        "#moves right and then right again, compute the posterior \n",
        "#distribution if the robot first senses red, then moves \n",
        "#right one, then senses green, then moves right again, \n",
        "#starting with a uniform prior distribution.\n",
        "\n",
        "world=['green', 'red', 'red', 'green', 'green']\n",
        "measurements = ['red', 'green']\n",
        "motions = [1,1]\n",
        "\n",
        "p = init_distribution(len(world))\n",
        "# ADD CODE HERE\n",
        "p = sense(p, 'red')\n",
        "p = move_inexact(p, 1)\n",
        "p = sense(p, 'green')\n",
        "p = move_inexact(p, 1)\n",
        "\n",
        "print(p)"
      ],
      "execution_count": 15,
      "outputs": [
        {
          "output_type": "stream",
          "text": [
            "[0.21157894736842106, 0.15157894736842106, 0.08105263157894738, 0.16842105263157894, 0.38736842105263164]\n"
          ],
          "name": "stdout"
        }
      ]
    }
  ]
}