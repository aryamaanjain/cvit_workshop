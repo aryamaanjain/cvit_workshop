{
  "nbformat": 4,
  "nbformat_minor": 0,
  "metadata": {
    "colab": {
      "name": "cvit_summer_workshop_02june2020_2.ipynb",
      "provenance": [],
      "collapsed_sections": []
    },
    "kernelspec": {
      "name": "python3",
      "display_name": "Python 3"
    }
  },
  "cells": [
    {
      "cell_type": "markdown",
      "metadata": {
        "id": "IfsXz4bHdYdM",
        "colab_type": "text"
      },
      "source": [
        "# Perceptron"
      ]
    },
    {
      "cell_type": "markdown",
      "metadata": {
        "id": "fYmnbY9PdcXT",
        "colab_type": "text"
      },
      "source": [
        "## and gate"
      ]
    },
    {
      "cell_type": "code",
      "metadata": {
        "id": "Ij2PQ0j8c6Qz",
        "colab_type": "code",
        "colab": {}
      },
      "source": [
        "# initialising values\n",
        "x = [[0,0,1,1],\n",
        "     [0,1,0,1]]\n",
        "yd = [0,0,0,1]\n",
        "w = [0.3, -0.1]\n",
        "y = [0,0,0,0] # random, not equal to yd\n",
        "threshold = 0.2\n",
        "lrate = 0.1"
      ],
      "execution_count": 0,
      "outputs": []
    },
    {
      "cell_type": "code",
      "metadata": {
        "id": "VCTU2Oo4fZSs",
        "colab_type": "code",
        "colab": {}
      },
      "source": [
        "def loss(a, b):\n",
        "  return abs(a - b)"
      ],
      "execution_count": 0,
      "outputs": []
    },
    {
      "cell_type": "code",
      "metadata": {
        "id": "JqGZUF5uhaE8",
        "colab_type": "code",
        "colab": {}
      },
      "source": [
        "def activation(a):\n",
        "  if a >= threshold:\n",
        "    return 1\n",
        "  else:\n",
        "    return 0 "
      ],
      "execution_count": 0,
      "outputs": []
    },
    {
      "cell_type": "code",
      "metadata": {
        "id": "15xY3TafoQLu",
        "colab_type": "code",
        "colab": {}
      },
      "source": [
        "def accuracy():\n",
        "  match = 0\n",
        "  for i in range(4):\n",
        "    if y[i] == yd[i]:\n",
        "      match += 1\n",
        "  return match/4"
      ],
      "execution_count": 0,
      "outputs": []
    },
    {
      "cell_type": "code",
      "metadata": {
        "id": "2Kib2h5rgUco",
        "colab_type": "code",
        "colab": {
          "base_uri": "https://localhost:8080/",
          "height": 69
        },
        "outputId": "ae90d1c1-5c13-4e14-9fe9-aaf6414b51cb"
      },
      "source": [
        "epoch = 1\n",
        "while accuracy() < 1.0:\n",
        "  for i in range(4):\n",
        "    y[i] = activation(w[0] * x[0][i] + w[1] * x[1][i])\n",
        "    w[0] += lrate * (yd[i] - y[i]) * x[0][i]\n",
        "    w[1] += lrate * (yd[i] - y[i]) * x[1][i]\n",
        "    # loss(yd[i], y[i])\n",
        "  epoch += 1\n",
        "\n",
        "print('w0 =', round(w[0], 2))\n",
        "print('w1 =', round(w[1], 2))\n",
        "print('epoch =', epoch)"
      ],
      "execution_count": 41,
      "outputs": [
        {
          "output_type": "stream",
          "text": [
            "w0 = 0.2\n",
            "w1 = 0.1\n",
            "epoch = 5\n"
          ],
          "name": "stdout"
        }
      ]
    },
    {
      "cell_type": "markdown",
      "metadata": {
        "id": "4XUIsnA7lhwc",
        "colab_type": "text"
      },
      "source": [
        "## or gate"
      ]
    },
    {
      "cell_type": "code",
      "metadata": {
        "colab_type": "code",
        "id": "BxOGmNyPo6rd",
        "colab": {}
      },
      "source": [
        "# initialising values\n",
        "x = [[0,0,1,1],\n",
        "     [0,1,0,1]]\n",
        "yd = [0,1,1,1]\n",
        "w = [0.3, -0.1]\n",
        "y = [0,0,0,0] # random, not equal to yd\n",
        "threshold = 0.2\n",
        "lrate = 0.1"
      ],
      "execution_count": 0,
      "outputs": []
    },
    {
      "cell_type": "code",
      "metadata": {
        "colab_type": "code",
        "id": "u9BQbJ_yo6sI",
        "colab": {}
      },
      "source": [
        "def loss(a, b):\n",
        "  return abs(a - b)"
      ],
      "execution_count": 0,
      "outputs": []
    },
    {
      "cell_type": "code",
      "metadata": {
        "colab_type": "code",
        "id": "BxIoj_3Ao6sl",
        "colab": {}
      },
      "source": [
        "def activation(a):\n",
        "  if a >= threshold:\n",
        "    return 1\n",
        "  else:\n",
        "    return 0 "
      ],
      "execution_count": 0,
      "outputs": []
    },
    {
      "cell_type": "code",
      "metadata": {
        "colab_type": "code",
        "id": "DbPlkRsio6s8",
        "colab": {}
      },
      "source": [
        "def accuracy():\n",
        "  match = 0\n",
        "  for i in range(4):\n",
        "    if y[i] == yd[i]:\n",
        "      match += 1\n",
        "  return match/4"
      ],
      "execution_count": 0,
      "outputs": []
    },
    {
      "cell_type": "code",
      "metadata": {
        "colab_type": "code",
        "outputId": "3bdf290d-b458-4634-a5b0-9407f8f36afc",
        "id": "N0zZdp_fo6tV",
        "colab": {
          "base_uri": "https://localhost:8080/",
          "height": 69
        }
      },
      "source": [
        "epoch = 1\n",
        "while accuracy() < 1.0:\n",
        "  for i in range(4):\n",
        "    y[i] = activation(w[0] * x[0][i] + w[1] * x[1][i])\n",
        "    w[0] += lrate * (yd[i] - y[i]) * x[0][i]\n",
        "    w[1] += lrate * (yd[i] - y[i]) * x[1][i]\n",
        "    # loss(yd[i], y[i])\n",
        "  epoch += 1\n",
        "\n",
        "print('w0 =', round(w[0], 2))\n",
        "print('w1 =', round(w[1], 2))\n",
        "print('epoch =', epoch)"
      ],
      "execution_count": 39,
      "outputs": [
        {
          "output_type": "stream",
          "text": [
            "w0 = 0.3\n",
            "w1 = 0.2\n",
            "epoch = 5\n"
          ],
          "name": "stdout"
        }
      ]
    },
    {
      "cell_type": "markdown",
      "metadata": {
        "id": "vnwwgUmml6Vg",
        "colab_type": "text"
      },
      "source": [
        "## xor with early stopping"
      ]
    },
    {
      "cell_type": "code",
      "metadata": {
        "colab_type": "code",
        "id": "3f4esy03pQj9",
        "colab": {}
      },
      "source": [
        "# initialising values\n",
        "x = [[0,0,1,1],\n",
        "     [0,1,0,1]]\n",
        "yd = [0,1,1,0]\n",
        "w = [0.3, -0.1]\n",
        "y = [0,0,0,0] # random, not equal to yd\n",
        "threshold = 0.2\n",
        "lrate = 0.1"
      ],
      "execution_count": 0,
      "outputs": []
    },
    {
      "cell_type": "code",
      "metadata": {
        "colab_type": "code",
        "id": "VrlNpT27pQkr",
        "colab": {}
      },
      "source": [
        "def loss(a, b):\n",
        "  return abs(a - b)"
      ],
      "execution_count": 0,
      "outputs": []
    },
    {
      "cell_type": "code",
      "metadata": {
        "colab_type": "code",
        "id": "Z96pd0EPpQlQ",
        "colab": {}
      },
      "source": [
        "def activation(a):\n",
        "  if a >= threshold:\n",
        "    return 1\n",
        "  else:\n",
        "    return 0 "
      ],
      "execution_count": 0,
      "outputs": []
    },
    {
      "cell_type": "code",
      "metadata": {
        "colab_type": "code",
        "id": "SzVSbaZGpQlm",
        "colab": {}
      },
      "source": [
        "def accuracy():\n",
        "  match = 0\n",
        "  for i in range(4):\n",
        "    if y[i] == yd[i]:\n",
        "      match += 1\n",
        "  return match/4"
      ],
      "execution_count": 0,
      "outputs": []
    },
    {
      "cell_type": "code",
      "metadata": {
        "colab_type": "code",
        "outputId": "6b661cf0-db3c-4310-e497-048f255b3bcb",
        "id": "TE6h5QSLpQl5",
        "colab": {
          "base_uri": "https://localhost:8080/",
          "height": 86
        }
      },
      "source": [
        "epoch = 1\n",
        "while accuracy() < 1.0 and epoch < 10:\n",
        "  for i in range(4):\n",
        "    y[i] = activation(w[0] * x[0][i] + w[1] * x[1][i])\n",
        "    w[0] += lrate * (yd[i] - y[i]) * x[0][i]\n",
        "    w[1] += lrate * (yd[i] - y[i]) * x[1][i]\n",
        "    # loss(yd[i], y[i])\n",
        "  epoch += 1\n",
        "\n",
        "print('w0 =', round(w[0], 2))\n",
        "print('w1 =', round(w[1], 2))\n",
        "print('epoch =', epoch)\n",
        "print('accuracy =', accuracy())"
      ],
      "execution_count": 48,
      "outputs": [
        {
          "output_type": "stream",
          "text": [
            "w0 = 0.2\n",
            "w1 = -0.1\n",
            "epoch = 10\n",
            "accuracy = 0.25\n"
          ],
          "name": "stdout"
        }
      ]
    }
  ]
}